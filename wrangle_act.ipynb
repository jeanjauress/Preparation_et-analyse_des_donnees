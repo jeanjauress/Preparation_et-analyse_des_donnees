{
 "cells": [
  {
   "cell_type": "markdown",
   "id": "e3df7735",
   "metadata": {},
   "source": [
    "# Projet : Préparation et analyse des données\n",
    "\n",
    "## Table des matières\n",
    "<ul>\n",
    "<li><a href=\"#intro\">Introduction</a></li>\n",
    "<li><a href=\"#wrangling\">Étape 1 : collecte de données</a></li>\n",
    "<li><a href=\"#evaluation\">Étape 2 : évaluation des données</a></li>\n",
    "<li><a href=\"#netoyage\">Étape 3 : Nétoyage des données</a></li>\n",
    "<li><a href=\"#stockage\">Étape 4 : stockage des données</a></li>\n",
    "<li><a href=\"#analyse\">Étape 5 :analyser et visualiser les données</a></li>\n",
    "<li><a href=\"#conclusions\">Conclusion</a></li>\n",
    "<li><a href=\"#rapports\">Étape 6 : rapports</a></li>\n",
    "<li><a href=\"#reference\">reference</a></li>\n",
    "</ul>"
   ]
  },
  {
   "cell_type": "markdown",
   "id": "d0284f98",
   "metadata": {},
   "source": [
    "<a id='intro'></a>\n",
    "## Introduction\n",
    "\n",
    "> Dans ce projet, nous recueillerons des données provenant de diverses sources et dans divers formats.\n",
    "> puis nous évaluerons la qualité et l'ordre des données, puis les nettoierons.\n",
    "> Enfin nous réaliserons des analyses suivies de quelques visualisations.\n",
    "\n",
    "> Pour mener à bien cette préparation et cette analyse des données,\n",
    "> suivons quelques étapes :\n",
    "\n",
    "- Étape 1 : collecte de données\n",
    "\n",
    "- Étape 2 : évaluation des données\n",
    "\n",
    "- Étape 3 : nettoyage des données\n",
    "\n",
    "- Étape 4 : stockage des données\n",
    "\n",
    "- Étape 5 : analyser et visualiser les données\n",
    "\n",
    "- Étape 6 : rapports"
   ]
  },
  {
   "cell_type": "markdown",
   "id": "6b965e82",
   "metadata": {},
   "source": [
    "<a id='wrangling'></a>\n",
    "# Étape 1 : Collecte de données\n",
    "> Dans cette étape, nous collecterons les trois bases de données dont nous avons besoin pour notre analyse des données.\n",
    "\n",
    "- la première base de données nous a été proposée, nous venons de la télécharger en cliquant sur un lien (twitter_archive_enhanced.csv).\n",
    "- la deuxième base de données sera téléchargeable par programmation grâce au lien qui nous a été donné (image-predictions.tsv).\n",
    "- la troisième base de données sera téléchargée à l'aide de l'API Twitter (Data_supplementary_API_Twitter.csv)."
   ]
  },
  {
   "cell_type": "code",
   "execution_count": 75,
   "id": "96669a43",
   "metadata": {},
   "outputs": [],
   "source": [
    "# importer des packages\n",
    "import requests\n",
    "import pandas as pd\n",
    "import numpy as np\n",
    "import tweepy\n",
    "import json\n",
    "from tweepy import OAuthHandler\n",
    "from timeit import default_timer as timer\n",
    "import sqlite3\n",
    "import matplotlib.pyplot as plt\n",
    "import seaborn as sns"
   ]
  },
  {
   "cell_type": "code",
   "execution_count": 2,
   "id": "319c94c3",
   "metadata": {},
   "outputs": [],
   "source": [
    "#téléchargez le deuxième jeu de données par programmation grâce à l'url qui nous est donnée\n",
    "url = 'https://d17h27t6h515a5.cloudfront.net/topher/2017/August/599fd2ad_image-predictions/image-predictions.tsv' \n",
    "response = requests.get(url) \n",
    "\n",
    "# Enregistrer le fichier tsv \n",
    "with open(\"image_predictions.tsv\", mode='wb') as file : \n",
    "    file.write(response.content)"
   ]
  },
  {
   "cell_type": "code",
   "execution_count": 76,
   "id": "f4a2a227",
   "metadata": {},
   "outputs": [],
   "source": [
    "# lire la base de données\n",
    "twitter_archive = pd.read_csv('twitter_archive_enhanced.csv')\n",
    "image_prediction = pd.read_csv('image_predictions.tsv',sep='\\t')"
   ]
  },
  {
   "cell_type": "code",
   "execution_count": null,
   "id": "ee6b8cdc",
   "metadata": {},
   "outputs": [],
   "source": [
    "# télécharger le troisième jeu de données grâce à l'API Twitter\n",
    "#clé api\n",
    "consumer_key = 'cle api'\n",
    "consumer_secret = 'secret api'\n",
    "access_token = 'token key'\n",
    "access_secret = 'token secret'\n",
    "\n",
    "# authentification\n",
    "auth = OAuthHandler(consumer_key, consumer_secret)\n",
    "auth.set_access_token(access_token, access_secret)\n",
    "api = tweepy.API(auth, wait_on_rate_limit=True)\n",
    "\n",
    "#determinons le nombre de ligne de notre base twitter_archive\n",
    "tweet_ids = twitter_archive.tweet_id.values\n",
    "len(tweet_ids)\n",
    "\n",
    "count = 0\n",
    "fails_dict = {}\n",
    "start = timer()\n",
    "\n",
    "with open('tweet__json.txt', 'w') as outfile:\n",
    "    for tweet_id in tweet_ids:\n",
    "        count += 1\n",
    "        print(str(count) + \": \" + str(tweet_id))\n",
    "        try:\n",
    "            tweet = api.get_status(tweet_id, tweet_mode='extended')\n",
    "            print(\"Success\")\n",
    "            json.dump(tweet._json, outfile)\n",
    "            outfile.write('\\n')\n",
    "        except tweepy.TweepyException as e:\n",
    "            print(e)\n",
    "            fails_dict[tweet_id] = e\n",
    "            pass\n",
    "end = timer()\n",
    "print(end - start)\n",
    "print(fails_dict)"
   ]
  },
  {
   "cell_type": "code",
   "execution_count": 77,
   "id": "36337ae3",
   "metadata": {},
   "outputs": [
    {
     "data": {
      "text/plain": [
       "2354"
      ]
     },
     "execution_count": 77,
     "metadata": {},
     "output_type": "execute_result"
    }
   ],
   "source": [
    "# ouvrez le fichier txt pour connaître le nombre de lignes\n",
    "with open('tweet_json.txt', encoding='utf-8') as file:\n",
    "    long = len(file.readlines())\n",
    "long"
   ]
  },
  {
   "cell_type": "code",
   "execution_count": 78,
   "id": "fa194232",
   "metadata": {},
   "outputs": [],
   "source": [
    "# créons le troisième ensemble de données avec le fichier txt\n",
    "df_list = []\n",
    "# ouverture du fichier txt\n",
    "with open('tweet_json.txt', encoding='utf-8') as file:\n",
    "    for i in range(long):\n",
    "        text = file.readline()[:-1]\n",
    "        res = json.loads(text)\n",
    "        tweet_id = res['id']\n",
    "        retweet_count = res['retweet_count']\n",
    "        favorite_count = res['favorite_count']\n",
    "        retweeted_status = res['retweeted_status'] = res.get('retweeted_status', 'Original tweet')\n",
    "        \n",
    "        if retweeted_status != 'Original tweet':\n",
    "            retweeted_status = 'This is a retweet'\n",
    "            \n",
    "        df_list.append({'tweet_id': tweet_id,\n",
    "                        'retweet_count': retweet_count ,\n",
    "                        'favorite_count': favorite_count,\n",
    "                       'retweeted_status': retweeted_status,})\n",
    "# création du jeu de données\n",
    "Donnees_supplémentaires = pd.DataFrame(df_list, columns = ['tweet_id', 'retweet_count', 'favorite_count','retweeted_status'])"
   ]
  },
  {
   "cell_type": "code",
   "execution_count": 79,
   "id": "b6818fd1",
   "metadata": {},
   "outputs": [],
   "source": [
    "# enregistrons le jeu de données dans un fichier csv\n",
    "Donnees_supplémentaires.to_csv('Donnees_supplémentaires_API_Twitter.csv',index=False)"
   ]
  },
  {
   "cell_type": "code",
   "execution_count": 80,
   "id": "6e110ff3",
   "metadata": {},
   "outputs": [],
   "source": [
    "# lecture de la base de données\n",
    "Donnees_supplémentaires = pd.read_csv('Donnees_supplémentaires_API_Twitter.csv')"
   ]
  },
  {
   "cell_type": "code",
   "execution_count": 81,
   "id": "c174d067",
   "metadata": {},
   "outputs": [
    {
     "data": {
      "text/html": [
       "<div>\n",
       "<style scoped>\n",
       "    .dataframe tbody tr th:only-of-type {\n",
       "        vertical-align: middle;\n",
       "    }\n",
       "\n",
       "    .dataframe tbody tr th {\n",
       "        vertical-align: top;\n",
       "    }\n",
       "\n",
       "    .dataframe thead th {\n",
       "        text-align: right;\n",
       "    }\n",
       "</style>\n",
       "<table border=\"1\" class=\"dataframe\">\n",
       "  <thead>\n",
       "    <tr style=\"text-align: right;\">\n",
       "      <th></th>\n",
       "      <th>tweet_id</th>\n",
       "      <th>in_reply_to_status_id</th>\n",
       "      <th>in_reply_to_user_id</th>\n",
       "      <th>timestamp</th>\n",
       "      <th>source</th>\n",
       "      <th>text</th>\n",
       "      <th>retweeted_status_id</th>\n",
       "      <th>retweeted_status_user_id</th>\n",
       "      <th>retweeted_status_timestamp</th>\n",
       "      <th>expanded_urls</th>\n",
       "      <th>rating_numerator</th>\n",
       "      <th>rating_denominator</th>\n",
       "      <th>name</th>\n",
       "      <th>doggo</th>\n",
       "      <th>floofer</th>\n",
       "      <th>pupper</th>\n",
       "      <th>puppo</th>\n",
       "    </tr>\n",
       "  </thead>\n",
       "  <tbody>\n",
       "    <tr>\n",
       "      <th>0</th>\n",
       "      <td>892420643555336193</td>\n",
       "      <td>NaN</td>\n",
       "      <td>NaN</td>\n",
       "      <td>2017-08-01 16:23:56 +0000</td>\n",
       "      <td>&lt;a href=\"http://twitter.com/download/iphone\" r...</td>\n",
       "      <td>This is Phineas. He's a mystical boy. Only eve...</td>\n",
       "      <td>NaN</td>\n",
       "      <td>NaN</td>\n",
       "      <td>NaN</td>\n",
       "      <td>https://twitter.com/dog_rates/status/892420643...</td>\n",
       "      <td>13</td>\n",
       "      <td>10</td>\n",
       "      <td>Phineas</td>\n",
       "      <td>None</td>\n",
       "      <td>None</td>\n",
       "      <td>None</td>\n",
       "      <td>None</td>\n",
       "    </tr>\n",
       "  </tbody>\n",
       "</table>\n",
       "</div>"
      ],
      "text/plain": [
       "             tweet_id  in_reply_to_status_id  in_reply_to_user_id  \\\n",
       "0  892420643555336193                    NaN                  NaN   \n",
       "\n",
       "                   timestamp  \\\n",
       "0  2017-08-01 16:23:56 +0000   \n",
       "\n",
       "                                              source  \\\n",
       "0  <a href=\"http://twitter.com/download/iphone\" r...   \n",
       "\n",
       "                                                text  retweeted_status_id  \\\n",
       "0  This is Phineas. He's a mystical boy. Only eve...                  NaN   \n",
       "\n",
       "   retweeted_status_user_id retweeted_status_timestamp  \\\n",
       "0                       NaN                        NaN   \n",
       "\n",
       "                                       expanded_urls  rating_numerator  \\\n",
       "0  https://twitter.com/dog_rates/status/892420643...                13   \n",
       "\n",
       "   rating_denominator     name doggo floofer pupper puppo  \n",
       "0                  10  Phineas  None    None   None  None  "
      ]
     },
     "execution_count": 81,
     "metadata": {},
     "output_type": "execute_result"
    }
   ],
   "source": [
    "# lecture de la prémière ligne de la table twitter_archive\n",
    "twitter_archive.head(1)"
   ]
  },
  {
   "cell_type": "code",
   "execution_count": 82,
   "id": "8366c993",
   "metadata": {},
   "outputs": [
    {
     "data": {
      "text/html": [
       "<div>\n",
       "<style scoped>\n",
       "    .dataframe tbody tr th:only-of-type {\n",
       "        vertical-align: middle;\n",
       "    }\n",
       "\n",
       "    .dataframe tbody tr th {\n",
       "        vertical-align: top;\n",
       "    }\n",
       "\n",
       "    .dataframe thead th {\n",
       "        text-align: right;\n",
       "    }\n",
       "</style>\n",
       "<table border=\"1\" class=\"dataframe\">\n",
       "  <thead>\n",
       "    <tr style=\"text-align: right;\">\n",
       "      <th></th>\n",
       "      <th>tweet_id</th>\n",
       "      <th>jpg_url</th>\n",
       "      <th>img_num</th>\n",
       "      <th>p1</th>\n",
       "      <th>p1_conf</th>\n",
       "      <th>p1_dog</th>\n",
       "      <th>p2</th>\n",
       "      <th>p2_conf</th>\n",
       "      <th>p2_dog</th>\n",
       "      <th>p3</th>\n",
       "      <th>p3_conf</th>\n",
       "      <th>p3_dog</th>\n",
       "    </tr>\n",
       "  </thead>\n",
       "  <tbody>\n",
       "    <tr>\n",
       "      <th>0</th>\n",
       "      <td>666020888022790149</td>\n",
       "      <td>https://pbs.twimg.com/media/CT4udn0WwAA0aMy.jpg</td>\n",
       "      <td>1</td>\n",
       "      <td>Welsh_springer_spaniel</td>\n",
       "      <td>0.465074</td>\n",
       "      <td>True</td>\n",
       "      <td>collie</td>\n",
       "      <td>0.156665</td>\n",
       "      <td>True</td>\n",
       "      <td>Shetland_sheepdog</td>\n",
       "      <td>0.061428</td>\n",
       "      <td>True</td>\n",
       "    </tr>\n",
       "  </tbody>\n",
       "</table>\n",
       "</div>"
      ],
      "text/plain": [
       "             tweet_id                                          jpg_url  \\\n",
       "0  666020888022790149  https://pbs.twimg.com/media/CT4udn0WwAA0aMy.jpg   \n",
       "\n",
       "   img_num                      p1   p1_conf  p1_dog      p2   p2_conf  \\\n",
       "0        1  Welsh_springer_spaniel  0.465074    True  collie  0.156665   \n",
       "\n",
       "   p2_dog                 p3   p3_conf  p3_dog  \n",
       "0    True  Shetland_sheepdog  0.061428    True  "
      ]
     },
     "execution_count": 82,
     "metadata": {},
     "output_type": "execute_result"
    }
   ],
   "source": [
    "# lecture de la prémière ligne de la table image_prediction\n",
    "image_prediction.head(1)"
   ]
  },
  {
   "cell_type": "code",
   "execution_count": 83,
   "id": "05ec308c",
   "metadata": {},
   "outputs": [
    {
     "data": {
      "text/html": [
       "<div>\n",
       "<style scoped>\n",
       "    .dataframe tbody tr th:only-of-type {\n",
       "        vertical-align: middle;\n",
       "    }\n",
       "\n",
       "    .dataframe tbody tr th {\n",
       "        vertical-align: top;\n",
       "    }\n",
       "\n",
       "    .dataframe thead th {\n",
       "        text-align: right;\n",
       "    }\n",
       "</style>\n",
       "<table border=\"1\" class=\"dataframe\">\n",
       "  <thead>\n",
       "    <tr style=\"text-align: right;\">\n",
       "      <th></th>\n",
       "      <th>tweet_id</th>\n",
       "      <th>retweet_count</th>\n",
       "      <th>favorite_count</th>\n",
       "      <th>retweeted_status</th>\n",
       "    </tr>\n",
       "  </thead>\n",
       "  <tbody>\n",
       "    <tr>\n",
       "      <th>0</th>\n",
       "      <td>892420643555336193</td>\n",
       "      <td>8853</td>\n",
       "      <td>39467</td>\n",
       "      <td>Original tweet</td>\n",
       "    </tr>\n",
       "  </tbody>\n",
       "</table>\n",
       "</div>"
      ],
      "text/plain": [
       "             tweet_id  retweet_count  favorite_count retweeted_status\n",
       "0  892420643555336193           8853           39467   Original tweet"
      ]
     },
     "execution_count": 83,
     "metadata": {},
     "output_type": "execute_result"
    }
   ],
   "source": [
    "# lecture de la prémière ligne de la table Donnees_supplémentaires\n",
    "Donnees_supplémentaires.head(1)"
   ]
  },
  {
   "cell_type": "markdown",
   "id": "82836c59",
   "metadata": {},
   "source": [
    "> Nous venons de terminer la collecte des données et nous avons maintenant nos 3 bases de données dans les variables twitter_archive (twitter_archive_enhanced.csv), image_prediction (image-predictions.tsv) et Donnees_supplémentaires (Donnees_supplémentaires_API_Twitter.csv).\n",
    "\n",
    "> La prochaine étape consistera à évaluer ces ensembles de données."
   ]
  },
  {
   "cell_type": "markdown",
   "id": "a846a6cb",
   "metadata": {},
   "source": [
    "<a id='evaluation'></a>\n",
    "# Étape 2 : évaluation des données\n",
    "> Dans cette étape, nous évaluerons les données visuellement et par programmation pour détecter les problèmes de qualité et de stockage."
   ]
  },
  {
   "cell_type": "code",
   "execution_count": 84,
   "id": "4437e21e",
   "metadata": {},
   "outputs": [
    {
     "data": {
      "text/html": [
       "<div>\n",
       "<style scoped>\n",
       "    .dataframe tbody tr th:only-of-type {\n",
       "        vertical-align: middle;\n",
       "    }\n",
       "\n",
       "    .dataframe tbody tr th {\n",
       "        vertical-align: top;\n",
       "    }\n",
       "\n",
       "    .dataframe thead th {\n",
       "        text-align: right;\n",
       "    }\n",
       "</style>\n",
       "<table border=\"1\" class=\"dataframe\">\n",
       "  <thead>\n",
       "    <tr style=\"text-align: right;\">\n",
       "      <th></th>\n",
       "      <th>tweet_id</th>\n",
       "      <th>in_reply_to_status_id</th>\n",
       "      <th>in_reply_to_user_id</th>\n",
       "      <th>timestamp</th>\n",
       "      <th>source</th>\n",
       "      <th>text</th>\n",
       "      <th>retweeted_status_id</th>\n",
       "      <th>retweeted_status_user_id</th>\n",
       "      <th>retweeted_status_timestamp</th>\n",
       "      <th>expanded_urls</th>\n",
       "      <th>rating_numerator</th>\n",
       "      <th>rating_denominator</th>\n",
       "      <th>name</th>\n",
       "      <th>doggo</th>\n",
       "      <th>floofer</th>\n",
       "      <th>pupper</th>\n",
       "      <th>puppo</th>\n",
       "    </tr>\n",
       "  </thead>\n",
       "  <tbody>\n",
       "    <tr>\n",
       "      <th>0</th>\n",
       "      <td>892420643555336193</td>\n",
       "      <td>NaN</td>\n",
       "      <td>NaN</td>\n",
       "      <td>2017-08-01 16:23:56 +0000</td>\n",
       "      <td>&lt;a href=\"http://twitter.com/download/iphone\" r...</td>\n",
       "      <td>This is Phineas. He's a mystical boy. Only eve...</td>\n",
       "      <td>NaN</td>\n",
       "      <td>NaN</td>\n",
       "      <td>NaN</td>\n",
       "      <td>https://twitter.com/dog_rates/status/892420643...</td>\n",
       "      <td>13</td>\n",
       "      <td>10</td>\n",
       "      <td>Phineas</td>\n",
       "      <td>None</td>\n",
       "      <td>None</td>\n",
       "      <td>None</td>\n",
       "      <td>None</td>\n",
       "    </tr>\n",
       "    <tr>\n",
       "      <th>1</th>\n",
       "      <td>892177421306343426</td>\n",
       "      <td>NaN</td>\n",
       "      <td>NaN</td>\n",
       "      <td>2017-08-01 00:17:27 +0000</td>\n",
       "      <td>&lt;a href=\"http://twitter.com/download/iphone\" r...</td>\n",
       "      <td>This is Tilly. She's just checking pup on you....</td>\n",
       "      <td>NaN</td>\n",
       "      <td>NaN</td>\n",
       "      <td>NaN</td>\n",
       "      <td>https://twitter.com/dog_rates/status/892177421...</td>\n",
       "      <td>13</td>\n",
       "      <td>10</td>\n",
       "      <td>Tilly</td>\n",
       "      <td>None</td>\n",
       "      <td>None</td>\n",
       "      <td>None</td>\n",
       "      <td>None</td>\n",
       "    </tr>\n",
       "    <tr>\n",
       "      <th>2</th>\n",
       "      <td>891815181378084864</td>\n",
       "      <td>NaN</td>\n",
       "      <td>NaN</td>\n",
       "      <td>2017-07-31 00:18:03 +0000</td>\n",
       "      <td>&lt;a href=\"http://twitter.com/download/iphone\" r...</td>\n",
       "      <td>This is Archie. He is a rare Norwegian Pouncin...</td>\n",
       "      <td>NaN</td>\n",
       "      <td>NaN</td>\n",
       "      <td>NaN</td>\n",
       "      <td>https://twitter.com/dog_rates/status/891815181...</td>\n",
       "      <td>12</td>\n",
       "      <td>10</td>\n",
       "      <td>Archie</td>\n",
       "      <td>None</td>\n",
       "      <td>None</td>\n",
       "      <td>None</td>\n",
       "      <td>None</td>\n",
       "    </tr>\n",
       "    <tr>\n",
       "      <th>3</th>\n",
       "      <td>891689557279858688</td>\n",
       "      <td>NaN</td>\n",
       "      <td>NaN</td>\n",
       "      <td>2017-07-30 15:58:51 +0000</td>\n",
       "      <td>&lt;a href=\"http://twitter.com/download/iphone\" r...</td>\n",
       "      <td>This is Darla. She commenced a snooze mid meal...</td>\n",
       "      <td>NaN</td>\n",
       "      <td>NaN</td>\n",
       "      <td>NaN</td>\n",
       "      <td>https://twitter.com/dog_rates/status/891689557...</td>\n",
       "      <td>13</td>\n",
       "      <td>10</td>\n",
       "      <td>Darla</td>\n",
       "      <td>None</td>\n",
       "      <td>None</td>\n",
       "      <td>None</td>\n",
       "      <td>None</td>\n",
       "    </tr>\n",
       "    <tr>\n",
       "      <th>4</th>\n",
       "      <td>891327558926688256</td>\n",
       "      <td>NaN</td>\n",
       "      <td>NaN</td>\n",
       "      <td>2017-07-29 16:00:24 +0000</td>\n",
       "      <td>&lt;a href=\"http://twitter.com/download/iphone\" r...</td>\n",
       "      <td>This is Franklin. He would like you to stop ca...</td>\n",
       "      <td>NaN</td>\n",
       "      <td>NaN</td>\n",
       "      <td>NaN</td>\n",
       "      <td>https://twitter.com/dog_rates/status/891327558...</td>\n",
       "      <td>12</td>\n",
       "      <td>10</td>\n",
       "      <td>Franklin</td>\n",
       "      <td>None</td>\n",
       "      <td>None</td>\n",
       "      <td>None</td>\n",
       "      <td>None</td>\n",
       "    </tr>\n",
       "    <tr>\n",
       "      <th>...</th>\n",
       "      <td>...</td>\n",
       "      <td>...</td>\n",
       "      <td>...</td>\n",
       "      <td>...</td>\n",
       "      <td>...</td>\n",
       "      <td>...</td>\n",
       "      <td>...</td>\n",
       "      <td>...</td>\n",
       "      <td>...</td>\n",
       "      <td>...</td>\n",
       "      <td>...</td>\n",
       "      <td>...</td>\n",
       "      <td>...</td>\n",
       "      <td>...</td>\n",
       "      <td>...</td>\n",
       "      <td>...</td>\n",
       "      <td>...</td>\n",
       "    </tr>\n",
       "    <tr>\n",
       "      <th>2351</th>\n",
       "      <td>666049248165822465</td>\n",
       "      <td>NaN</td>\n",
       "      <td>NaN</td>\n",
       "      <td>2015-11-16 00:24:50 +0000</td>\n",
       "      <td>&lt;a href=\"http://twitter.com/download/iphone\" r...</td>\n",
       "      <td>Here we have a 1949 1st generation vulpix. Enj...</td>\n",
       "      <td>NaN</td>\n",
       "      <td>NaN</td>\n",
       "      <td>NaN</td>\n",
       "      <td>https://twitter.com/dog_rates/status/666049248...</td>\n",
       "      <td>5</td>\n",
       "      <td>10</td>\n",
       "      <td>None</td>\n",
       "      <td>None</td>\n",
       "      <td>None</td>\n",
       "      <td>None</td>\n",
       "      <td>None</td>\n",
       "    </tr>\n",
       "    <tr>\n",
       "      <th>2352</th>\n",
       "      <td>666044226329800704</td>\n",
       "      <td>NaN</td>\n",
       "      <td>NaN</td>\n",
       "      <td>2015-11-16 00:04:52 +0000</td>\n",
       "      <td>&lt;a href=\"http://twitter.com/download/iphone\" r...</td>\n",
       "      <td>This is a purebred Piers Morgan. Loves to Netf...</td>\n",
       "      <td>NaN</td>\n",
       "      <td>NaN</td>\n",
       "      <td>NaN</td>\n",
       "      <td>https://twitter.com/dog_rates/status/666044226...</td>\n",
       "      <td>6</td>\n",
       "      <td>10</td>\n",
       "      <td>a</td>\n",
       "      <td>None</td>\n",
       "      <td>None</td>\n",
       "      <td>None</td>\n",
       "      <td>None</td>\n",
       "    </tr>\n",
       "    <tr>\n",
       "      <th>2353</th>\n",
       "      <td>666033412701032449</td>\n",
       "      <td>NaN</td>\n",
       "      <td>NaN</td>\n",
       "      <td>2015-11-15 23:21:54 +0000</td>\n",
       "      <td>&lt;a href=\"http://twitter.com/download/iphone\" r...</td>\n",
       "      <td>Here is a very happy pup. Big fan of well-main...</td>\n",
       "      <td>NaN</td>\n",
       "      <td>NaN</td>\n",
       "      <td>NaN</td>\n",
       "      <td>https://twitter.com/dog_rates/status/666033412...</td>\n",
       "      <td>9</td>\n",
       "      <td>10</td>\n",
       "      <td>a</td>\n",
       "      <td>None</td>\n",
       "      <td>None</td>\n",
       "      <td>None</td>\n",
       "      <td>None</td>\n",
       "    </tr>\n",
       "    <tr>\n",
       "      <th>2354</th>\n",
       "      <td>666029285002620928</td>\n",
       "      <td>NaN</td>\n",
       "      <td>NaN</td>\n",
       "      <td>2015-11-15 23:05:30 +0000</td>\n",
       "      <td>&lt;a href=\"http://twitter.com/download/iphone\" r...</td>\n",
       "      <td>This is a western brown Mitsubishi terrier. Up...</td>\n",
       "      <td>NaN</td>\n",
       "      <td>NaN</td>\n",
       "      <td>NaN</td>\n",
       "      <td>https://twitter.com/dog_rates/status/666029285...</td>\n",
       "      <td>7</td>\n",
       "      <td>10</td>\n",
       "      <td>a</td>\n",
       "      <td>None</td>\n",
       "      <td>None</td>\n",
       "      <td>None</td>\n",
       "      <td>None</td>\n",
       "    </tr>\n",
       "    <tr>\n",
       "      <th>2355</th>\n",
       "      <td>666020888022790149</td>\n",
       "      <td>NaN</td>\n",
       "      <td>NaN</td>\n",
       "      <td>2015-11-15 22:32:08 +0000</td>\n",
       "      <td>&lt;a href=\"http://twitter.com/download/iphone\" r...</td>\n",
       "      <td>Here we have a Japanese Irish Setter. Lost eye...</td>\n",
       "      <td>NaN</td>\n",
       "      <td>NaN</td>\n",
       "      <td>NaN</td>\n",
       "      <td>https://twitter.com/dog_rates/status/666020888...</td>\n",
       "      <td>8</td>\n",
       "      <td>10</td>\n",
       "      <td>None</td>\n",
       "      <td>None</td>\n",
       "      <td>None</td>\n",
       "      <td>None</td>\n",
       "      <td>None</td>\n",
       "    </tr>\n",
       "  </tbody>\n",
       "</table>\n",
       "<p>2356 rows × 17 columns</p>\n",
       "</div>"
      ],
      "text/plain": [
       "                tweet_id  in_reply_to_status_id  in_reply_to_user_id  \\\n",
       "0     892420643555336193                    NaN                  NaN   \n",
       "1     892177421306343426                    NaN                  NaN   \n",
       "2     891815181378084864                    NaN                  NaN   \n",
       "3     891689557279858688                    NaN                  NaN   \n",
       "4     891327558926688256                    NaN                  NaN   \n",
       "...                  ...                    ...                  ...   \n",
       "2351  666049248165822465                    NaN                  NaN   \n",
       "2352  666044226329800704                    NaN                  NaN   \n",
       "2353  666033412701032449                    NaN                  NaN   \n",
       "2354  666029285002620928                    NaN                  NaN   \n",
       "2355  666020888022790149                    NaN                  NaN   \n",
       "\n",
       "                      timestamp  \\\n",
       "0     2017-08-01 16:23:56 +0000   \n",
       "1     2017-08-01 00:17:27 +0000   \n",
       "2     2017-07-31 00:18:03 +0000   \n",
       "3     2017-07-30 15:58:51 +0000   \n",
       "4     2017-07-29 16:00:24 +0000   \n",
       "...                         ...   \n",
       "2351  2015-11-16 00:24:50 +0000   \n",
       "2352  2015-11-16 00:04:52 +0000   \n",
       "2353  2015-11-15 23:21:54 +0000   \n",
       "2354  2015-11-15 23:05:30 +0000   \n",
       "2355  2015-11-15 22:32:08 +0000   \n",
       "\n",
       "                                                 source  \\\n",
       "0     <a href=\"http://twitter.com/download/iphone\" r...   \n",
       "1     <a href=\"http://twitter.com/download/iphone\" r...   \n",
       "2     <a href=\"http://twitter.com/download/iphone\" r...   \n",
       "3     <a href=\"http://twitter.com/download/iphone\" r...   \n",
       "4     <a href=\"http://twitter.com/download/iphone\" r...   \n",
       "...                                                 ...   \n",
       "2351  <a href=\"http://twitter.com/download/iphone\" r...   \n",
       "2352  <a href=\"http://twitter.com/download/iphone\" r...   \n",
       "2353  <a href=\"http://twitter.com/download/iphone\" r...   \n",
       "2354  <a href=\"http://twitter.com/download/iphone\" r...   \n",
       "2355  <a href=\"http://twitter.com/download/iphone\" r...   \n",
       "\n",
       "                                                   text  retweeted_status_id  \\\n",
       "0     This is Phineas. He's a mystical boy. Only eve...                  NaN   \n",
       "1     This is Tilly. She's just checking pup on you....                  NaN   \n",
       "2     This is Archie. He is a rare Norwegian Pouncin...                  NaN   \n",
       "3     This is Darla. She commenced a snooze mid meal...                  NaN   \n",
       "4     This is Franklin. He would like you to stop ca...                  NaN   \n",
       "...                                                 ...                  ...   \n",
       "2351  Here we have a 1949 1st generation vulpix. Enj...                  NaN   \n",
       "2352  This is a purebred Piers Morgan. Loves to Netf...                  NaN   \n",
       "2353  Here is a very happy pup. Big fan of well-main...                  NaN   \n",
       "2354  This is a western brown Mitsubishi terrier. Up...                  NaN   \n",
       "2355  Here we have a Japanese Irish Setter. Lost eye...                  NaN   \n",
       "\n",
       "      retweeted_status_user_id retweeted_status_timestamp  \\\n",
       "0                          NaN                        NaN   \n",
       "1                          NaN                        NaN   \n",
       "2                          NaN                        NaN   \n",
       "3                          NaN                        NaN   \n",
       "4                          NaN                        NaN   \n",
       "...                        ...                        ...   \n",
       "2351                       NaN                        NaN   \n",
       "2352                       NaN                        NaN   \n",
       "2353                       NaN                        NaN   \n",
       "2354                       NaN                        NaN   \n",
       "2355                       NaN                        NaN   \n",
       "\n",
       "                                          expanded_urls  rating_numerator  \\\n",
       "0     https://twitter.com/dog_rates/status/892420643...                13   \n",
       "1     https://twitter.com/dog_rates/status/892177421...                13   \n",
       "2     https://twitter.com/dog_rates/status/891815181...                12   \n",
       "3     https://twitter.com/dog_rates/status/891689557...                13   \n",
       "4     https://twitter.com/dog_rates/status/891327558...                12   \n",
       "...                                                 ...               ...   \n",
       "2351  https://twitter.com/dog_rates/status/666049248...                 5   \n",
       "2352  https://twitter.com/dog_rates/status/666044226...                 6   \n",
       "2353  https://twitter.com/dog_rates/status/666033412...                 9   \n",
       "2354  https://twitter.com/dog_rates/status/666029285...                 7   \n",
       "2355  https://twitter.com/dog_rates/status/666020888...                 8   \n",
       "\n",
       "      rating_denominator      name doggo floofer pupper puppo  \n",
       "0                     10   Phineas  None    None   None  None  \n",
       "1                     10     Tilly  None    None   None  None  \n",
       "2                     10    Archie  None    None   None  None  \n",
       "3                     10     Darla  None    None   None  None  \n",
       "4                     10  Franklin  None    None   None  None  \n",
       "...                  ...       ...   ...     ...    ...   ...  \n",
       "2351                  10      None  None    None   None  None  \n",
       "2352                  10         a  None    None   None  None  \n",
       "2353                  10         a  None    None   None  None  \n",
       "2354                  10         a  None    None   None  None  \n",
       "2355                  10      None  None    None   None  None  \n",
       "\n",
       "[2356 rows x 17 columns]"
      ]
     },
     "execution_count": 84,
     "metadata": {},
     "output_type": "execute_result"
    }
   ],
   "source": [
    "# lecture de la table twitter_archive\n",
    "twitter_archive"
   ]
  },
  {
   "cell_type": "code",
   "execution_count": 85,
   "id": "9423d054",
   "metadata": {},
   "outputs": [
    {
     "name": "stdout",
     "output_type": "stream",
     "text": [
      "<class 'pandas.core.frame.DataFrame'>\n",
      "RangeIndex: 2356 entries, 0 to 2355\n",
      "Data columns (total 17 columns):\n",
      " #   Column                      Non-Null Count  Dtype  \n",
      "---  ------                      --------------  -----  \n",
      " 0   tweet_id                    2356 non-null   int64  \n",
      " 1   in_reply_to_status_id       78 non-null     float64\n",
      " 2   in_reply_to_user_id         78 non-null     float64\n",
      " 3   timestamp                   2356 non-null   object \n",
      " 4   source                      2356 non-null   object \n",
      " 5   text                        2356 non-null   object \n",
      " 6   retweeted_status_id         181 non-null    float64\n",
      " 7   retweeted_status_user_id    181 non-null    float64\n",
      " 8   retweeted_status_timestamp  181 non-null    object \n",
      " 9   expanded_urls               2297 non-null   object \n",
      " 10  rating_numerator            2356 non-null   int64  \n",
      " 11  rating_denominator          2356 non-null   int64  \n",
      " 12  name                        2356 non-null   object \n",
      " 13  doggo                       2356 non-null   object \n",
      " 14  floofer                     2356 non-null   object \n",
      " 15  pupper                      2356 non-null   object \n",
      " 16  puppo                       2356 non-null   object \n",
      "dtypes: float64(4), int64(3), object(10)\n",
      "memory usage: 313.0+ KB\n"
     ]
    }
   ],
   "source": [
    "# afficher les informations de la base de données twitter_archive\n",
    "twitter_archive.info()"
   ]
  },
  {
   "cell_type": "code",
   "execution_count": 86,
   "id": "28acfb61",
   "metadata": {},
   "outputs": [
    {
     "data": {
      "text/plain": [
       "['tweet_id',\n",
       " 'in_reply_to_status_id',\n",
       " 'in_reply_to_user_id',\n",
       " 'timestamp',\n",
       " 'source',\n",
       " 'text',\n",
       " 'retweeted_status_id',\n",
       " 'retweeted_status_user_id',\n",
       " 'retweeted_status_timestamp',\n",
       " 'expanded_urls',\n",
       " 'rating_numerator',\n",
       " 'rating_denominator',\n",
       " 'name',\n",
       " 'doggo',\n",
       " 'floofer',\n",
       " 'pupper',\n",
       " 'puppo']"
      ]
     },
     "execution_count": 86,
     "metadata": {},
     "output_type": "execute_result"
    }
   ],
   "source": [
    "# afficher la liste des colonnes de la base de données twitter_archive\n",
    "list(twitter_archive)"
   ]
  },
  {
   "cell_type": "code",
   "execution_count": 87,
   "id": "48491ba1",
   "metadata": {},
   "outputs": [
    {
     "data": {
      "text/html": [
       "<div>\n",
       "<style scoped>\n",
       "    .dataframe tbody tr th:only-of-type {\n",
       "        vertical-align: middle;\n",
       "    }\n",
       "\n",
       "    .dataframe tbody tr th {\n",
       "        vertical-align: top;\n",
       "    }\n",
       "\n",
       "    .dataframe thead th {\n",
       "        text-align: right;\n",
       "    }\n",
       "</style>\n",
       "<table border=\"1\" class=\"dataframe\">\n",
       "  <thead>\n",
       "    <tr style=\"text-align: right;\">\n",
       "      <th></th>\n",
       "      <th>tweet_id</th>\n",
       "      <th>in_reply_to_status_id</th>\n",
       "      <th>in_reply_to_user_id</th>\n",
       "      <th>retweeted_status_id</th>\n",
       "      <th>retweeted_status_user_id</th>\n",
       "      <th>rating_numerator</th>\n",
       "      <th>rating_denominator</th>\n",
       "    </tr>\n",
       "  </thead>\n",
       "  <tbody>\n",
       "    <tr>\n",
       "      <th>count</th>\n",
       "      <td>2.356000e+03</td>\n",
       "      <td>7.800000e+01</td>\n",
       "      <td>7.800000e+01</td>\n",
       "      <td>1.810000e+02</td>\n",
       "      <td>1.810000e+02</td>\n",
       "      <td>2356.000000</td>\n",
       "      <td>2356.000000</td>\n",
       "    </tr>\n",
       "    <tr>\n",
       "      <th>mean</th>\n",
       "      <td>7.427716e+17</td>\n",
       "      <td>7.455079e+17</td>\n",
       "      <td>2.014171e+16</td>\n",
       "      <td>7.720400e+17</td>\n",
       "      <td>1.241698e+16</td>\n",
       "      <td>13.126486</td>\n",
       "      <td>10.455433</td>\n",
       "    </tr>\n",
       "    <tr>\n",
       "      <th>std</th>\n",
       "      <td>6.856705e+16</td>\n",
       "      <td>7.582492e+16</td>\n",
       "      <td>1.252797e+17</td>\n",
       "      <td>6.236928e+16</td>\n",
       "      <td>9.599254e+16</td>\n",
       "      <td>45.876648</td>\n",
       "      <td>6.745237</td>\n",
       "    </tr>\n",
       "    <tr>\n",
       "      <th>min</th>\n",
       "      <td>6.660209e+17</td>\n",
       "      <td>6.658147e+17</td>\n",
       "      <td>1.185634e+07</td>\n",
       "      <td>6.661041e+17</td>\n",
       "      <td>7.832140e+05</td>\n",
       "      <td>0.000000</td>\n",
       "      <td>0.000000</td>\n",
       "    </tr>\n",
       "    <tr>\n",
       "      <th>25%</th>\n",
       "      <td>6.783989e+17</td>\n",
       "      <td>6.757419e+17</td>\n",
       "      <td>3.086374e+08</td>\n",
       "      <td>7.186315e+17</td>\n",
       "      <td>4.196984e+09</td>\n",
       "      <td>10.000000</td>\n",
       "      <td>10.000000</td>\n",
       "    </tr>\n",
       "    <tr>\n",
       "      <th>50%</th>\n",
       "      <td>7.196279e+17</td>\n",
       "      <td>7.038708e+17</td>\n",
       "      <td>4.196984e+09</td>\n",
       "      <td>7.804657e+17</td>\n",
       "      <td>4.196984e+09</td>\n",
       "      <td>11.000000</td>\n",
       "      <td>10.000000</td>\n",
       "    </tr>\n",
       "    <tr>\n",
       "      <th>75%</th>\n",
       "      <td>7.993373e+17</td>\n",
       "      <td>8.257804e+17</td>\n",
       "      <td>4.196984e+09</td>\n",
       "      <td>8.203146e+17</td>\n",
       "      <td>4.196984e+09</td>\n",
       "      <td>12.000000</td>\n",
       "      <td>10.000000</td>\n",
       "    </tr>\n",
       "    <tr>\n",
       "      <th>max</th>\n",
       "      <td>8.924206e+17</td>\n",
       "      <td>8.862664e+17</td>\n",
       "      <td>8.405479e+17</td>\n",
       "      <td>8.874740e+17</td>\n",
       "      <td>7.874618e+17</td>\n",
       "      <td>1776.000000</td>\n",
       "      <td>170.000000</td>\n",
       "    </tr>\n",
       "  </tbody>\n",
       "</table>\n",
       "</div>"
      ],
      "text/plain": [
       "           tweet_id  in_reply_to_status_id  in_reply_to_user_id  \\\n",
       "count  2.356000e+03           7.800000e+01         7.800000e+01   \n",
       "mean   7.427716e+17           7.455079e+17         2.014171e+16   \n",
       "std    6.856705e+16           7.582492e+16         1.252797e+17   \n",
       "min    6.660209e+17           6.658147e+17         1.185634e+07   \n",
       "25%    6.783989e+17           6.757419e+17         3.086374e+08   \n",
       "50%    7.196279e+17           7.038708e+17         4.196984e+09   \n",
       "75%    7.993373e+17           8.257804e+17         4.196984e+09   \n",
       "max    8.924206e+17           8.862664e+17         8.405479e+17   \n",
       "\n",
       "       retweeted_status_id  retweeted_status_user_id  rating_numerator  \\\n",
       "count         1.810000e+02              1.810000e+02       2356.000000   \n",
       "mean          7.720400e+17              1.241698e+16         13.126486   \n",
       "std           6.236928e+16              9.599254e+16         45.876648   \n",
       "min           6.661041e+17              7.832140e+05          0.000000   \n",
       "25%           7.186315e+17              4.196984e+09         10.000000   \n",
       "50%           7.804657e+17              4.196984e+09         11.000000   \n",
       "75%           8.203146e+17              4.196984e+09         12.000000   \n",
       "max           8.874740e+17              7.874618e+17       1776.000000   \n",
       "\n",
       "       rating_denominator  \n",
       "count         2356.000000  \n",
       "mean            10.455433  \n",
       "std              6.745237  \n",
       "min              0.000000  \n",
       "25%             10.000000  \n",
       "50%             10.000000  \n",
       "75%             10.000000  \n",
       "max            170.000000  "
      ]
     },
     "execution_count": 87,
     "metadata": {},
     "output_type": "execute_result"
    }
   ],
   "source": [
    "# afficher la description de la base de donnee twitter_archive\n",
    "twitter_archive.describe()"
   ]
  },
  {
   "cell_type": "code",
   "execution_count": 88,
   "id": "51fec7e5",
   "metadata": {},
   "outputs": [
    {
     "data": {
      "text/html": [
       "<div>\n",
       "<style scoped>\n",
       "    .dataframe tbody tr th:only-of-type {\n",
       "        vertical-align: middle;\n",
       "    }\n",
       "\n",
       "    .dataframe tbody tr th {\n",
       "        vertical-align: top;\n",
       "    }\n",
       "\n",
       "    .dataframe thead th {\n",
       "        text-align: right;\n",
       "    }\n",
       "</style>\n",
       "<table border=\"1\" class=\"dataframe\">\n",
       "  <thead>\n",
       "    <tr style=\"text-align: right;\">\n",
       "      <th></th>\n",
       "      <th>tweet_id</th>\n",
       "      <th>in_reply_to_status_id</th>\n",
       "      <th>in_reply_to_user_id</th>\n",
       "      <th>timestamp</th>\n",
       "      <th>source</th>\n",
       "      <th>text</th>\n",
       "      <th>retweeted_status_id</th>\n",
       "      <th>retweeted_status_user_id</th>\n",
       "      <th>retweeted_status_timestamp</th>\n",
       "      <th>expanded_urls</th>\n",
       "      <th>rating_numerator</th>\n",
       "      <th>rating_denominator</th>\n",
       "      <th>name</th>\n",
       "      <th>doggo</th>\n",
       "      <th>floofer</th>\n",
       "      <th>pupper</th>\n",
       "      <th>puppo</th>\n",
       "    </tr>\n",
       "  </thead>\n",
       "  <tbody>\n",
       "    <tr>\n",
       "      <th>343</th>\n",
       "      <td>832040443403784192</td>\n",
       "      <td>NaN</td>\n",
       "      <td>NaN</td>\n",
       "      <td>2017-02-16 01:34:34 +0000</td>\n",
       "      <td>&lt;a href=\"http://twitter.com/download/iphone\" r...</td>\n",
       "      <td>RT @dog_rates: This is Klein. These pics were ...</td>\n",
       "      <td>7.699404e+17</td>\n",
       "      <td>4.196984e+09</td>\n",
       "      <td>2016-08-28 16:51:16 +0000</td>\n",
       "      <td>https://twitter.com/dog_rates/status/769940425...</td>\n",
       "      <td>12</td>\n",
       "      <td>10</td>\n",
       "      <td>Klein</td>\n",
       "      <td>None</td>\n",
       "      <td>None</td>\n",
       "      <td>None</td>\n",
       "      <td>None</td>\n",
       "    </tr>\n",
       "    <tr>\n",
       "      <th>1479</th>\n",
       "      <td>693582294167244802</td>\n",
       "      <td>6.935722e+17</td>\n",
       "      <td>1.198989e+09</td>\n",
       "      <td>2016-01-30 23:51:19 +0000</td>\n",
       "      <td>&lt;a href=\"http://twitter.com/download/iphone\" r...</td>\n",
       "      <td>Personally I'd give him an 11/10. Not sure why...</td>\n",
       "      <td>NaN</td>\n",
       "      <td>NaN</td>\n",
       "      <td>NaN</td>\n",
       "      <td>NaN</td>\n",
       "      <td>11</td>\n",
       "      <td>10</td>\n",
       "      <td>None</td>\n",
       "      <td>None</td>\n",
       "      <td>None</td>\n",
       "      <td>None</td>\n",
       "      <td>None</td>\n",
       "    </tr>\n",
       "    <tr>\n",
       "      <th>1869</th>\n",
       "      <td>675153376133427200</td>\n",
       "      <td>NaN</td>\n",
       "      <td>NaN</td>\n",
       "      <td>2015-12-11 03:21:23 +0000</td>\n",
       "      <td>&lt;a href=\"http://twitter.com/download/iphone\" r...</td>\n",
       "      <td>What kind of person sends in a picture without...</td>\n",
       "      <td>NaN</td>\n",
       "      <td>NaN</td>\n",
       "      <td>NaN</td>\n",
       "      <td>https://twitter.com/dog_rates/status/675153376...</td>\n",
       "      <td>1</td>\n",
       "      <td>10</td>\n",
       "      <td>None</td>\n",
       "      <td>None</td>\n",
       "      <td>None</td>\n",
       "      <td>None</td>\n",
       "      <td>None</td>\n",
       "    </tr>\n",
       "    <tr>\n",
       "      <th>2141</th>\n",
       "      <td>669993076832759809</td>\n",
       "      <td>NaN</td>\n",
       "      <td>NaN</td>\n",
       "      <td>2015-11-26 21:36:12 +0000</td>\n",
       "      <td>&lt;a href=\"http://twitter.com/download/iphone\" r...</td>\n",
       "      <td>This is Zoey. Her dreams of becoming a hippo b...</td>\n",
       "      <td>NaN</td>\n",
       "      <td>NaN</td>\n",
       "      <td>NaN</td>\n",
       "      <td>https://twitter.com/dog_rates/status/669993076...</td>\n",
       "      <td>9</td>\n",
       "      <td>10</td>\n",
       "      <td>Zoey</td>\n",
       "      <td>None</td>\n",
       "      <td>None</td>\n",
       "      <td>None</td>\n",
       "      <td>None</td>\n",
       "    </tr>\n",
       "    <tr>\n",
       "      <th>434</th>\n",
       "      <td>820494788566847489</td>\n",
       "      <td>NaN</td>\n",
       "      <td>NaN</td>\n",
       "      <td>2017-01-15 04:56:16 +0000</td>\n",
       "      <td>&lt;a href=\"http://twitter.com/download/iphone\" r...</td>\n",
       "      <td>RT @dog_rates: We are proud to support @LoveYo...</td>\n",
       "      <td>8.203146e+17</td>\n",
       "      <td>4.196984e+09</td>\n",
       "      <td>2017-01-14 17:00:24 +0000</td>\n",
       "      <td>https://www.loveyourmelon.com/pages/ourstory,h...</td>\n",
       "      <td>14</td>\n",
       "      <td>10</td>\n",
       "      <td>None</td>\n",
       "      <td>None</td>\n",
       "      <td>None</td>\n",
       "      <td>None</td>\n",
       "      <td>None</td>\n",
       "    </tr>\n",
       "  </tbody>\n",
       "</table>\n",
       "</div>"
      ],
      "text/plain": [
       "                tweet_id  in_reply_to_status_id  in_reply_to_user_id  \\\n",
       "343   832040443403784192                    NaN                  NaN   \n",
       "1479  693582294167244802           6.935722e+17         1.198989e+09   \n",
       "1869  675153376133427200                    NaN                  NaN   \n",
       "2141  669993076832759809                    NaN                  NaN   \n",
       "434   820494788566847489                    NaN                  NaN   \n",
       "\n",
       "                      timestamp  \\\n",
       "343   2017-02-16 01:34:34 +0000   \n",
       "1479  2016-01-30 23:51:19 +0000   \n",
       "1869  2015-12-11 03:21:23 +0000   \n",
       "2141  2015-11-26 21:36:12 +0000   \n",
       "434   2017-01-15 04:56:16 +0000   \n",
       "\n",
       "                                                 source  \\\n",
       "343   <a href=\"http://twitter.com/download/iphone\" r...   \n",
       "1479  <a href=\"http://twitter.com/download/iphone\" r...   \n",
       "1869  <a href=\"http://twitter.com/download/iphone\" r...   \n",
       "2141  <a href=\"http://twitter.com/download/iphone\" r...   \n",
       "434   <a href=\"http://twitter.com/download/iphone\" r...   \n",
       "\n",
       "                                                   text  retweeted_status_id  \\\n",
       "343   RT @dog_rates: This is Klein. These pics were ...         7.699404e+17   \n",
       "1479  Personally I'd give him an 11/10. Not sure why...                  NaN   \n",
       "1869  What kind of person sends in a picture without...                  NaN   \n",
       "2141  This is Zoey. Her dreams of becoming a hippo b...                  NaN   \n",
       "434   RT @dog_rates: We are proud to support @LoveYo...         8.203146e+17   \n",
       "\n",
       "      retweeted_status_user_id retweeted_status_timestamp  \\\n",
       "343               4.196984e+09  2016-08-28 16:51:16 +0000   \n",
       "1479                       NaN                        NaN   \n",
       "1869                       NaN                        NaN   \n",
       "2141                       NaN                        NaN   \n",
       "434               4.196984e+09  2017-01-14 17:00:24 +0000   \n",
       "\n",
       "                                          expanded_urls  rating_numerator  \\\n",
       "343   https://twitter.com/dog_rates/status/769940425...                12   \n",
       "1479                                                NaN                11   \n",
       "1869  https://twitter.com/dog_rates/status/675153376...                 1   \n",
       "2141  https://twitter.com/dog_rates/status/669993076...                 9   \n",
       "434   https://www.loveyourmelon.com/pages/ourstory,h...                14   \n",
       "\n",
       "      rating_denominator   name doggo floofer pupper puppo  \n",
       "343                   10  Klein  None    None   None  None  \n",
       "1479                  10   None  None    None   None  None  \n",
       "1869                  10   None  None    None   None  None  \n",
       "2141                  10   Zoey  None    None   None  None  \n",
       "434                   10   None  None    None   None  None  "
      ]
     },
     "execution_count": 88,
     "metadata": {},
     "output_type": "execute_result"
    }
   ],
   "source": [
    "# afficher 5 ligne aleatoire de la base de donnee twitter_archive\n",
    "twitter_archive.sample(5)"
   ]
  },
  {
   "cell_type": "code",
   "execution_count": 89,
   "id": "308573d6",
   "metadata": {},
   "outputs": [
    {
     "data": {
      "text/plain": [
       "0"
      ]
     },
     "execution_count": 89,
     "metadata": {},
     "output_type": "execute_result"
    }
   ],
   "source": [
    "# vérifier s'il y a des lignes en double dans la base de données twitter_archive\n",
    "twitter_archive['tweet_id'].duplicated().sum()"
   ]
  },
  {
   "cell_type": "code",
   "execution_count": 90,
   "id": "79565a63",
   "metadata": {},
   "outputs": [
    {
     "data": {
      "text/plain": [
       "12      558\n",
       "11      464\n",
       "10      461\n",
       "13      351\n",
       "9       158\n",
       "8       102\n",
       "7        55\n",
       "14       54\n",
       "5        37\n",
       "6        32\n",
       "3        19\n",
       "4        17\n",
       "2         9\n",
       "1         9\n",
       "75        2\n",
       "15        2\n",
       "420       2\n",
       "0         2\n",
       "80        1\n",
       "144       1\n",
       "17        1\n",
       "26        1\n",
       "20        1\n",
       "121       1\n",
       "143       1\n",
       "44        1\n",
       "60        1\n",
       "45        1\n",
       "50        1\n",
       "99        1\n",
       "204       1\n",
       "1776      1\n",
       "165       1\n",
       "666       1\n",
       "27        1\n",
       "182       1\n",
       "24        1\n",
       "960       1\n",
       "84        1\n",
       "88        1\n",
       "Name: rating_numerator, dtype: int64"
      ]
     },
     "execution_count": 90,
     "metadata": {},
     "output_type": "execute_result"
    }
   ],
   "source": [
    "# affichons le numérateur de la base de données twitter_archive\n",
    "twitter_archive.rating_numerator.value_counts()"
   ]
  },
  {
   "cell_type": "code",
   "execution_count": 91,
   "id": "fe2fb5c6",
   "metadata": {},
   "outputs": [
    {
     "name": "stderr",
     "output_type": "stream",
     "text": [
      "C:\\Users\\Jaures\\AppData\\Local\\Temp\\ipykernel_8480\\2240550875.py:3: UserWarning: This pattern is interpreted as a regular expression, and has match groups. To actually get the groups, use str.extract.\n",
      "  display(twitter_archive[twitter_archive['text'].str.contains(r\"(\\d+\\.\\d*\\/\\d+)\")]\n"
     ]
    },
    {
     "data": {
      "text/html": [
       "<div>\n",
       "<style scoped>\n",
       "    .dataframe tbody tr th:only-of-type {\n",
       "        vertical-align: middle;\n",
       "    }\n",
       "\n",
       "    .dataframe tbody tr th {\n",
       "        vertical-align: top;\n",
       "    }\n",
       "\n",
       "    .dataframe thead th {\n",
       "        text-align: right;\n",
       "    }\n",
       "</style>\n",
       "<table border=\"1\" class=\"dataframe\">\n",
       "  <thead>\n",
       "    <tr style=\"text-align: right;\">\n",
       "      <th></th>\n",
       "      <th>tweet_id</th>\n",
       "      <th>text</th>\n",
       "      <th>rating_numerator</th>\n",
       "      <th>rating_denominator</th>\n",
       "    </tr>\n",
       "  </thead>\n",
       "  <tbody>\n",
       "    <tr>\n",
       "      <th>45</th>\n",
       "      <td>883482846933004288</td>\n",
       "      <td>This is Bella. She hopes her smile made you smile. If not, she is also offering you her favorite monkey. 13.5/10 https://t.co/qjrljjt948</td>\n",
       "      <td>5</td>\n",
       "      <td>10</td>\n",
       "    </tr>\n",
       "    <tr>\n",
       "      <th>340</th>\n",
       "      <td>832215909146226688</td>\n",
       "      <td>RT @dog_rates: This is Logan, the Chow who lived. He solemnly swears he's up to lots of good. H*ckin magical af 9.75/10 https://t.co/yBO5wu…</td>\n",
       "      <td>75</td>\n",
       "      <td>10</td>\n",
       "    </tr>\n",
       "    <tr>\n",
       "      <th>695</th>\n",
       "      <td>786709082849828864</td>\n",
       "      <td>This is Logan, the Chow who lived. He solemnly swears he's up to lots of good. H*ckin magical af 9.75/10 https://t.co/yBO5wuqaPS</td>\n",
       "      <td>75</td>\n",
       "      <td>10</td>\n",
       "    </tr>\n",
       "    <tr>\n",
       "      <th>763</th>\n",
       "      <td>778027034220126208</td>\n",
       "      <td>This is Sophie. She's a Jubilant Bush Pupper. Super h*ckin rare. Appears at random just to smile at the locals. 11.27/10 would smile back https://t.co/QFaUiIHxHq</td>\n",
       "      <td>27</td>\n",
       "      <td>10</td>\n",
       "    </tr>\n",
       "    <tr>\n",
       "      <th>1689</th>\n",
       "      <td>681340665377193984</td>\n",
       "      <td>I've been told there's a slight possibility he's checking his mirror. We'll bump to 9.5/10. Still a menace</td>\n",
       "      <td>5</td>\n",
       "      <td>10</td>\n",
       "    </tr>\n",
       "    <tr>\n",
       "      <th>1712</th>\n",
       "      <td>680494726643068929</td>\n",
       "      <td>Here we have uncovered an entire battalion of holiday puppers. Average of 11.26/10 https://t.co/eNm2S6p9BD</td>\n",
       "      <td>26</td>\n",
       "      <td>10</td>\n",
       "    </tr>\n",
       "  </tbody>\n",
       "</table>\n",
       "</div>"
      ],
      "text/plain": [
       "                tweet_id  \\\n",
       "45    883482846933004288   \n",
       "340   832215909146226688   \n",
       "695   786709082849828864   \n",
       "763   778027034220126208   \n",
       "1689  681340665377193984   \n",
       "1712  680494726643068929   \n",
       "\n",
       "                                                                                                                                                                   text  \\\n",
       "45                             This is Bella. She hopes her smile made you smile. If not, she is also offering you her favorite monkey. 13.5/10 https://t.co/qjrljjt948   \n",
       "340                        RT @dog_rates: This is Logan, the Chow who lived. He solemnly swears he's up to lots of good. H*ckin magical af 9.75/10 https://t.co/yBO5wu…   \n",
       "695                                    This is Logan, the Chow who lived. He solemnly swears he's up to lots of good. H*ckin magical af 9.75/10 https://t.co/yBO5wuqaPS   \n",
       "763   This is Sophie. She's a Jubilant Bush Pupper. Super h*ckin rare. Appears at random just to smile at the locals. 11.27/10 would smile back https://t.co/QFaUiIHxHq   \n",
       "1689                                                         I've been told there's a slight possibility he's checking his mirror. We'll bump to 9.5/10. Still a menace   \n",
       "1712                                                         Here we have uncovered an entire battalion of holiday puppers. Average of 11.26/10 https://t.co/eNm2S6p9BD   \n",
       "\n",
       "      rating_numerator  rating_denominator  \n",
       "45                   5                  10  \n",
       "340                 75                  10  \n",
       "695                 75                  10  \n",
       "763                 27                  10  \n",
       "1689                 5                  10  \n",
       "1712                26                  10  "
      ]
     },
     "metadata": {},
     "output_type": "display_data"
    }
   ],
   "source": [
    "# vérifions si les nombres décimaux ont été extraits correctement\n",
    "with pd.option_context('max_colwidth', 200):\n",
    "    display(twitter_archive[twitter_archive['text'].str.contains(r\"(\\d+\\.\\d*\\/\\d+)\")]\n",
    "            [['tweet_id', 'text', 'rating_numerator', 'rating_denominator']])"
   ]
  },
  {
   "cell_type": "markdown",
   "id": "a87c20b3",
   "metadata": {},
   "source": [
    "> on constate que les nombres décimaux n'ont pas été bien extraits"
   ]
  },
  {
   "cell_type": "code",
   "execution_count": 92,
   "id": "3664dd48",
   "metadata": {},
   "outputs": [
    {
     "data": {
      "text/plain": [
       "10     2333\n",
       "11        3\n",
       "50        3\n",
       "20        2\n",
       "80        2\n",
       "70        1\n",
       "7         1\n",
       "15        1\n",
       "150       1\n",
       "170       1\n",
       "0         1\n",
       "90        1\n",
       "40        1\n",
       "130       1\n",
       "110       1\n",
       "16        1\n",
       "120       1\n",
       "2         1\n",
       "Name: rating_denominator, dtype: int64"
      ]
     },
     "execution_count": 92,
     "metadata": {},
     "output_type": "execute_result"
    }
   ],
   "source": [
    "# # affichons les dénominateurs de la base de donnée twitter_archive\n",
    "twitter_archive.rating_denominator.value_counts()"
   ]
  },
  {
   "cell_type": "code",
   "execution_count": 93,
   "id": "91a5cfe2",
   "metadata": {},
   "outputs": [
    {
     "data": {
      "text/html": [
       "<div>\n",
       "<style scoped>\n",
       "    .dataframe tbody tr th:only-of-type {\n",
       "        vertical-align: middle;\n",
       "    }\n",
       "\n",
       "    .dataframe tbody tr th {\n",
       "        vertical-align: top;\n",
       "    }\n",
       "\n",
       "    .dataframe thead th {\n",
       "        text-align: right;\n",
       "    }\n",
       "</style>\n",
       "<table border=\"1\" class=\"dataframe\">\n",
       "  <thead>\n",
       "    <tr style=\"text-align: right;\">\n",
       "      <th></th>\n",
       "      <th>tweet_id</th>\n",
       "      <th>jpg_url</th>\n",
       "      <th>img_num</th>\n",
       "      <th>p1</th>\n",
       "      <th>p1_conf</th>\n",
       "      <th>p1_dog</th>\n",
       "      <th>p2</th>\n",
       "      <th>p2_conf</th>\n",
       "      <th>p2_dog</th>\n",
       "      <th>p3</th>\n",
       "      <th>p3_conf</th>\n",
       "      <th>p3_dog</th>\n",
       "    </tr>\n",
       "  </thead>\n",
       "  <tbody>\n",
       "    <tr>\n",
       "      <th>0</th>\n",
       "      <td>666020888022790149</td>\n",
       "      <td>https://pbs.twimg.com/media/CT4udn0WwAA0aMy.jpg</td>\n",
       "      <td>1</td>\n",
       "      <td>Welsh_springer_spaniel</td>\n",
       "      <td>0.465074</td>\n",
       "      <td>True</td>\n",
       "      <td>collie</td>\n",
       "      <td>0.156665</td>\n",
       "      <td>True</td>\n",
       "      <td>Shetland_sheepdog</td>\n",
       "      <td>0.061428</td>\n",
       "      <td>True</td>\n",
       "    </tr>\n",
       "    <tr>\n",
       "      <th>1</th>\n",
       "      <td>666029285002620928</td>\n",
       "      <td>https://pbs.twimg.com/media/CT42GRgUYAA5iDo.jpg</td>\n",
       "      <td>1</td>\n",
       "      <td>redbone</td>\n",
       "      <td>0.506826</td>\n",
       "      <td>True</td>\n",
       "      <td>miniature_pinscher</td>\n",
       "      <td>0.074192</td>\n",
       "      <td>True</td>\n",
       "      <td>Rhodesian_ridgeback</td>\n",
       "      <td>0.072010</td>\n",
       "      <td>True</td>\n",
       "    </tr>\n",
       "    <tr>\n",
       "      <th>2</th>\n",
       "      <td>666033412701032449</td>\n",
       "      <td>https://pbs.twimg.com/media/CT4521TWwAEvMyu.jpg</td>\n",
       "      <td>1</td>\n",
       "      <td>German_shepherd</td>\n",
       "      <td>0.596461</td>\n",
       "      <td>True</td>\n",
       "      <td>malinois</td>\n",
       "      <td>0.138584</td>\n",
       "      <td>True</td>\n",
       "      <td>bloodhound</td>\n",
       "      <td>0.116197</td>\n",
       "      <td>True</td>\n",
       "    </tr>\n",
       "    <tr>\n",
       "      <th>3</th>\n",
       "      <td>666044226329800704</td>\n",
       "      <td>https://pbs.twimg.com/media/CT5Dr8HUEAA-lEu.jpg</td>\n",
       "      <td>1</td>\n",
       "      <td>Rhodesian_ridgeback</td>\n",
       "      <td>0.408143</td>\n",
       "      <td>True</td>\n",
       "      <td>redbone</td>\n",
       "      <td>0.360687</td>\n",
       "      <td>True</td>\n",
       "      <td>miniature_pinscher</td>\n",
       "      <td>0.222752</td>\n",
       "      <td>True</td>\n",
       "    </tr>\n",
       "    <tr>\n",
       "      <th>4</th>\n",
       "      <td>666049248165822465</td>\n",
       "      <td>https://pbs.twimg.com/media/CT5IQmsXIAAKY4A.jpg</td>\n",
       "      <td>1</td>\n",
       "      <td>miniature_pinscher</td>\n",
       "      <td>0.560311</td>\n",
       "      <td>True</td>\n",
       "      <td>Rottweiler</td>\n",
       "      <td>0.243682</td>\n",
       "      <td>True</td>\n",
       "      <td>Doberman</td>\n",
       "      <td>0.154629</td>\n",
       "      <td>True</td>\n",
       "    </tr>\n",
       "    <tr>\n",
       "      <th>...</th>\n",
       "      <td>...</td>\n",
       "      <td>...</td>\n",
       "      <td>...</td>\n",
       "      <td>...</td>\n",
       "      <td>...</td>\n",
       "      <td>...</td>\n",
       "      <td>...</td>\n",
       "      <td>...</td>\n",
       "      <td>...</td>\n",
       "      <td>...</td>\n",
       "      <td>...</td>\n",
       "      <td>...</td>\n",
       "    </tr>\n",
       "    <tr>\n",
       "      <th>2070</th>\n",
       "      <td>891327558926688256</td>\n",
       "      <td>https://pbs.twimg.com/media/DF6hr6BUMAAzZgT.jpg</td>\n",
       "      <td>2</td>\n",
       "      <td>basset</td>\n",
       "      <td>0.555712</td>\n",
       "      <td>True</td>\n",
       "      <td>English_springer</td>\n",
       "      <td>0.225770</td>\n",
       "      <td>True</td>\n",
       "      <td>German_short-haired_pointer</td>\n",
       "      <td>0.175219</td>\n",
       "      <td>True</td>\n",
       "    </tr>\n",
       "    <tr>\n",
       "      <th>2071</th>\n",
       "      <td>891689557279858688</td>\n",
       "      <td>https://pbs.twimg.com/media/DF_q7IAWsAEuuN8.jpg</td>\n",
       "      <td>1</td>\n",
       "      <td>paper_towel</td>\n",
       "      <td>0.170278</td>\n",
       "      <td>False</td>\n",
       "      <td>Labrador_retriever</td>\n",
       "      <td>0.168086</td>\n",
       "      <td>True</td>\n",
       "      <td>spatula</td>\n",
       "      <td>0.040836</td>\n",
       "      <td>False</td>\n",
       "    </tr>\n",
       "    <tr>\n",
       "      <th>2072</th>\n",
       "      <td>891815181378084864</td>\n",
       "      <td>https://pbs.twimg.com/media/DGBdLU1WsAANxJ9.jpg</td>\n",
       "      <td>1</td>\n",
       "      <td>Chihuahua</td>\n",
       "      <td>0.716012</td>\n",
       "      <td>True</td>\n",
       "      <td>malamute</td>\n",
       "      <td>0.078253</td>\n",
       "      <td>True</td>\n",
       "      <td>kelpie</td>\n",
       "      <td>0.031379</td>\n",
       "      <td>True</td>\n",
       "    </tr>\n",
       "    <tr>\n",
       "      <th>2073</th>\n",
       "      <td>892177421306343426</td>\n",
       "      <td>https://pbs.twimg.com/media/DGGmoV4XsAAUL6n.jpg</td>\n",
       "      <td>1</td>\n",
       "      <td>Chihuahua</td>\n",
       "      <td>0.323581</td>\n",
       "      <td>True</td>\n",
       "      <td>Pekinese</td>\n",
       "      <td>0.090647</td>\n",
       "      <td>True</td>\n",
       "      <td>papillon</td>\n",
       "      <td>0.068957</td>\n",
       "      <td>True</td>\n",
       "    </tr>\n",
       "    <tr>\n",
       "      <th>2074</th>\n",
       "      <td>892420643555336193</td>\n",
       "      <td>https://pbs.twimg.com/media/DGKD1-bXoAAIAUK.jpg</td>\n",
       "      <td>1</td>\n",
       "      <td>orange</td>\n",
       "      <td>0.097049</td>\n",
       "      <td>False</td>\n",
       "      <td>bagel</td>\n",
       "      <td>0.085851</td>\n",
       "      <td>False</td>\n",
       "      <td>banana</td>\n",
       "      <td>0.076110</td>\n",
       "      <td>False</td>\n",
       "    </tr>\n",
       "  </tbody>\n",
       "</table>\n",
       "<p>2075 rows × 12 columns</p>\n",
       "</div>"
      ],
      "text/plain": [
       "                tweet_id                                          jpg_url  \\\n",
       "0     666020888022790149  https://pbs.twimg.com/media/CT4udn0WwAA0aMy.jpg   \n",
       "1     666029285002620928  https://pbs.twimg.com/media/CT42GRgUYAA5iDo.jpg   \n",
       "2     666033412701032449  https://pbs.twimg.com/media/CT4521TWwAEvMyu.jpg   \n",
       "3     666044226329800704  https://pbs.twimg.com/media/CT5Dr8HUEAA-lEu.jpg   \n",
       "4     666049248165822465  https://pbs.twimg.com/media/CT5IQmsXIAAKY4A.jpg   \n",
       "...                  ...                                              ...   \n",
       "2070  891327558926688256  https://pbs.twimg.com/media/DF6hr6BUMAAzZgT.jpg   \n",
       "2071  891689557279858688  https://pbs.twimg.com/media/DF_q7IAWsAEuuN8.jpg   \n",
       "2072  891815181378084864  https://pbs.twimg.com/media/DGBdLU1WsAANxJ9.jpg   \n",
       "2073  892177421306343426  https://pbs.twimg.com/media/DGGmoV4XsAAUL6n.jpg   \n",
       "2074  892420643555336193  https://pbs.twimg.com/media/DGKD1-bXoAAIAUK.jpg   \n",
       "\n",
       "      img_num                      p1   p1_conf  p1_dog                  p2  \\\n",
       "0           1  Welsh_springer_spaniel  0.465074    True              collie   \n",
       "1           1                 redbone  0.506826    True  miniature_pinscher   \n",
       "2           1         German_shepherd  0.596461    True            malinois   \n",
       "3           1     Rhodesian_ridgeback  0.408143    True             redbone   \n",
       "4           1      miniature_pinscher  0.560311    True          Rottweiler   \n",
       "...       ...                     ...       ...     ...                 ...   \n",
       "2070        2                  basset  0.555712    True    English_springer   \n",
       "2071        1             paper_towel  0.170278   False  Labrador_retriever   \n",
       "2072        1               Chihuahua  0.716012    True            malamute   \n",
       "2073        1               Chihuahua  0.323581    True            Pekinese   \n",
       "2074        1                  orange  0.097049   False               bagel   \n",
       "\n",
       "       p2_conf  p2_dog                           p3   p3_conf  p3_dog  \n",
       "0     0.156665    True            Shetland_sheepdog  0.061428    True  \n",
       "1     0.074192    True          Rhodesian_ridgeback  0.072010    True  \n",
       "2     0.138584    True                   bloodhound  0.116197    True  \n",
       "3     0.360687    True           miniature_pinscher  0.222752    True  \n",
       "4     0.243682    True                     Doberman  0.154629    True  \n",
       "...        ...     ...                          ...       ...     ...  \n",
       "2070  0.225770    True  German_short-haired_pointer  0.175219    True  \n",
       "2071  0.168086    True                      spatula  0.040836   False  \n",
       "2072  0.078253    True                       kelpie  0.031379    True  \n",
       "2073  0.090647    True                     papillon  0.068957    True  \n",
       "2074  0.085851   False                       banana  0.076110   False  \n",
       "\n",
       "[2075 rows x 12 columns]"
      ]
     },
     "execution_count": 93,
     "metadata": {},
     "output_type": "execute_result"
    }
   ],
   "source": [
    "# lecture de la table image_prediction\n",
    "image_prediction"
   ]
  },
  {
   "cell_type": "code",
   "execution_count": 94,
   "id": "b67e3e6c",
   "metadata": {},
   "outputs": [
    {
     "name": "stdout",
     "output_type": "stream",
     "text": [
      "<class 'pandas.core.frame.DataFrame'>\n",
      "RangeIndex: 2075 entries, 0 to 2074\n",
      "Data columns (total 12 columns):\n",
      " #   Column    Non-Null Count  Dtype  \n",
      "---  ------    --------------  -----  \n",
      " 0   tweet_id  2075 non-null   int64  \n",
      " 1   jpg_url   2075 non-null   object \n",
      " 2   img_num   2075 non-null   int64  \n",
      " 3   p1        2075 non-null   object \n",
      " 4   p1_conf   2075 non-null   float64\n",
      " 5   p1_dog    2075 non-null   bool   \n",
      " 6   p2        2075 non-null   object \n",
      " 7   p2_conf   2075 non-null   float64\n",
      " 8   p2_dog    2075 non-null   bool   \n",
      " 9   p3        2075 non-null   object \n",
      " 10  p3_conf   2075 non-null   float64\n",
      " 11  p3_dog    2075 non-null   bool   \n",
      "dtypes: bool(3), float64(3), int64(2), object(4)\n",
      "memory usage: 152.1+ KB\n"
     ]
    }
   ],
   "source": [
    "#afficher les informations de la base de données image_prediction\n",
    "image_prediction.info()"
   ]
  },
  {
   "cell_type": "code",
   "execution_count": 95,
   "id": "b066f389",
   "metadata": {},
   "outputs": [
    {
     "data": {
      "text/plain": [
       "['tweet_id',\n",
       " 'jpg_url',\n",
       " 'img_num',\n",
       " 'p1',\n",
       " 'p1_conf',\n",
       " 'p1_dog',\n",
       " 'p2',\n",
       " 'p2_conf',\n",
       " 'p2_dog',\n",
       " 'p3',\n",
       " 'p3_conf',\n",
       " 'p3_dog']"
      ]
     },
     "execution_count": 95,
     "metadata": {},
     "output_type": "execute_result"
    }
   ],
   "source": [
    "#afficher la liste des colonnes de la base de données image_prediction\n",
    "list(image_prediction)"
   ]
  },
  {
   "cell_type": "code",
   "execution_count": 96,
   "id": "bf25504b",
   "metadata": {},
   "outputs": [
    {
     "data": {
      "text/html": [
       "<div>\n",
       "<style scoped>\n",
       "    .dataframe tbody tr th:only-of-type {\n",
       "        vertical-align: middle;\n",
       "    }\n",
       "\n",
       "    .dataframe tbody tr th {\n",
       "        vertical-align: top;\n",
       "    }\n",
       "\n",
       "    .dataframe thead th {\n",
       "        text-align: right;\n",
       "    }\n",
       "</style>\n",
       "<table border=\"1\" class=\"dataframe\">\n",
       "  <thead>\n",
       "    <tr style=\"text-align: right;\">\n",
       "      <th></th>\n",
       "      <th>tweet_id</th>\n",
       "      <th>img_num</th>\n",
       "      <th>p1_conf</th>\n",
       "      <th>p2_conf</th>\n",
       "      <th>p3_conf</th>\n",
       "    </tr>\n",
       "  </thead>\n",
       "  <tbody>\n",
       "    <tr>\n",
       "      <th>count</th>\n",
       "      <td>2.075000e+03</td>\n",
       "      <td>2075.000000</td>\n",
       "      <td>2075.000000</td>\n",
       "      <td>2.075000e+03</td>\n",
       "      <td>2.075000e+03</td>\n",
       "    </tr>\n",
       "    <tr>\n",
       "      <th>mean</th>\n",
       "      <td>7.384514e+17</td>\n",
       "      <td>1.203855</td>\n",
       "      <td>0.594548</td>\n",
       "      <td>1.345886e-01</td>\n",
       "      <td>6.032417e-02</td>\n",
       "    </tr>\n",
       "    <tr>\n",
       "      <th>std</th>\n",
       "      <td>6.785203e+16</td>\n",
       "      <td>0.561875</td>\n",
       "      <td>0.271174</td>\n",
       "      <td>1.006657e-01</td>\n",
       "      <td>5.090593e-02</td>\n",
       "    </tr>\n",
       "    <tr>\n",
       "      <th>min</th>\n",
       "      <td>6.660209e+17</td>\n",
       "      <td>1.000000</td>\n",
       "      <td>0.044333</td>\n",
       "      <td>1.011300e-08</td>\n",
       "      <td>1.740170e-10</td>\n",
       "    </tr>\n",
       "    <tr>\n",
       "      <th>25%</th>\n",
       "      <td>6.764835e+17</td>\n",
       "      <td>1.000000</td>\n",
       "      <td>0.364412</td>\n",
       "      <td>5.388625e-02</td>\n",
       "      <td>1.622240e-02</td>\n",
       "    </tr>\n",
       "    <tr>\n",
       "      <th>50%</th>\n",
       "      <td>7.119988e+17</td>\n",
       "      <td>1.000000</td>\n",
       "      <td>0.588230</td>\n",
       "      <td>1.181810e-01</td>\n",
       "      <td>4.944380e-02</td>\n",
       "    </tr>\n",
       "    <tr>\n",
       "      <th>75%</th>\n",
       "      <td>7.932034e+17</td>\n",
       "      <td>1.000000</td>\n",
       "      <td>0.843855</td>\n",
       "      <td>1.955655e-01</td>\n",
       "      <td>9.180755e-02</td>\n",
       "    </tr>\n",
       "    <tr>\n",
       "      <th>max</th>\n",
       "      <td>8.924206e+17</td>\n",
       "      <td>4.000000</td>\n",
       "      <td>1.000000</td>\n",
       "      <td>4.880140e-01</td>\n",
       "      <td>2.734190e-01</td>\n",
       "    </tr>\n",
       "  </tbody>\n",
       "</table>\n",
       "</div>"
      ],
      "text/plain": [
       "           tweet_id      img_num      p1_conf       p2_conf       p3_conf\n",
       "count  2.075000e+03  2075.000000  2075.000000  2.075000e+03  2.075000e+03\n",
       "mean   7.384514e+17     1.203855     0.594548  1.345886e-01  6.032417e-02\n",
       "std    6.785203e+16     0.561875     0.271174  1.006657e-01  5.090593e-02\n",
       "min    6.660209e+17     1.000000     0.044333  1.011300e-08  1.740170e-10\n",
       "25%    6.764835e+17     1.000000     0.364412  5.388625e-02  1.622240e-02\n",
       "50%    7.119988e+17     1.000000     0.588230  1.181810e-01  4.944380e-02\n",
       "75%    7.932034e+17     1.000000     0.843855  1.955655e-01  9.180755e-02\n",
       "max    8.924206e+17     4.000000     1.000000  4.880140e-01  2.734190e-01"
      ]
     },
     "execution_count": 96,
     "metadata": {},
     "output_type": "execute_result"
    }
   ],
   "source": [
    "# afficher la description de la base de données image_prediction\n",
    "image_prediction.describe()"
   ]
  },
  {
   "cell_type": "code",
   "execution_count": 97,
   "id": "e479000e",
   "metadata": {},
   "outputs": [
    {
     "data": {
      "text/html": [
       "<div>\n",
       "<style scoped>\n",
       "    .dataframe tbody tr th:only-of-type {\n",
       "        vertical-align: middle;\n",
       "    }\n",
       "\n",
       "    .dataframe tbody tr th {\n",
       "        vertical-align: top;\n",
       "    }\n",
       "\n",
       "    .dataframe thead th {\n",
       "        text-align: right;\n",
       "    }\n",
       "</style>\n",
       "<table border=\"1\" class=\"dataframe\">\n",
       "  <thead>\n",
       "    <tr style=\"text-align: right;\">\n",
       "      <th></th>\n",
       "      <th>tweet_id</th>\n",
       "      <th>jpg_url</th>\n",
       "      <th>img_num</th>\n",
       "      <th>p1</th>\n",
       "      <th>p1_conf</th>\n",
       "      <th>p1_dog</th>\n",
       "      <th>p2</th>\n",
       "      <th>p2_conf</th>\n",
       "      <th>p2_dog</th>\n",
       "      <th>p3</th>\n",
       "      <th>p3_conf</th>\n",
       "      <th>p3_dog</th>\n",
       "    </tr>\n",
       "  </thead>\n",
       "  <tbody>\n",
       "    <tr>\n",
       "      <th>415</th>\n",
       "      <td>674014384960745472</td>\n",
       "      <td>https://pbs.twimg.com/media/CVqUgTIUAAUA8Jr.jpg</td>\n",
       "      <td>1</td>\n",
       "      <td>Pembroke</td>\n",
       "      <td>0.742320</td>\n",
       "      <td>True</td>\n",
       "      <td>Cardigan</td>\n",
       "      <td>0.084937</td>\n",
       "      <td>True</td>\n",
       "      <td>Eskimo_dog</td>\n",
       "      <td>0.068321</td>\n",
       "      <td>True</td>\n",
       "    </tr>\n",
       "    <tr>\n",
       "      <th>1582</th>\n",
       "      <td>796759840936919040</td>\n",
       "      <td>https://pbs.twimg.com/media/Cw6o1JQXcAAtP78.jpg</td>\n",
       "      <td>1</td>\n",
       "      <td>American_Staffordshire_terrier</td>\n",
       "      <td>0.463996</td>\n",
       "      <td>True</td>\n",
       "      <td>Staffordshire_bullterrier</td>\n",
       "      <td>0.155566</td>\n",
       "      <td>True</td>\n",
       "      <td>Weimaraner</td>\n",
       "      <td>0.137587</td>\n",
       "      <td>True</td>\n",
       "    </tr>\n",
       "    <tr>\n",
       "      <th>335</th>\n",
       "      <td>672205392827572224</td>\n",
       "      <td>https://pbs.twimg.com/media/CVQnPMrVAAAzShR.jpg</td>\n",
       "      <td>1</td>\n",
       "      <td>carton</td>\n",
       "      <td>0.952613</td>\n",
       "      <td>False</td>\n",
       "      <td>crate</td>\n",
       "      <td>0.035376</td>\n",
       "      <td>False</td>\n",
       "      <td>pug</td>\n",
       "      <td>0.003267</td>\n",
       "      <td>True</td>\n",
       "    </tr>\n",
       "    <tr>\n",
       "      <th>1977</th>\n",
       "      <td>870374049280663552</td>\n",
       "      <td>https://pbs.twimg.com/media/DBQwlFCXkAACSkI.jpg</td>\n",
       "      <td>1</td>\n",
       "      <td>golden_retriever</td>\n",
       "      <td>0.841001</td>\n",
       "      <td>True</td>\n",
       "      <td>Great_Pyrenees</td>\n",
       "      <td>0.099278</td>\n",
       "      <td>True</td>\n",
       "      <td>Labrador_retriever</td>\n",
       "      <td>0.032621</td>\n",
       "      <td>True</td>\n",
       "    </tr>\n",
       "    <tr>\n",
       "      <th>681</th>\n",
       "      <td>683828599284170753</td>\n",
       "      <td>https://pbs.twimg.com/media/CX1ye7HUMAADDzh.jpg</td>\n",
       "      <td>1</td>\n",
       "      <td>malamute</td>\n",
       "      <td>0.577376</td>\n",
       "      <td>True</td>\n",
       "      <td>Siberian_husky</td>\n",
       "      <td>0.287131</td>\n",
       "      <td>True</td>\n",
       "      <td>Eskimo_dog</td>\n",
       "      <td>0.117563</td>\n",
       "      <td>True</td>\n",
       "    </tr>\n",
       "  </tbody>\n",
       "</table>\n",
       "</div>"
      ],
      "text/plain": [
       "                tweet_id                                          jpg_url  \\\n",
       "415   674014384960745472  https://pbs.twimg.com/media/CVqUgTIUAAUA8Jr.jpg   \n",
       "1582  796759840936919040  https://pbs.twimg.com/media/Cw6o1JQXcAAtP78.jpg   \n",
       "335   672205392827572224  https://pbs.twimg.com/media/CVQnPMrVAAAzShR.jpg   \n",
       "1977  870374049280663552  https://pbs.twimg.com/media/DBQwlFCXkAACSkI.jpg   \n",
       "681   683828599284170753  https://pbs.twimg.com/media/CX1ye7HUMAADDzh.jpg   \n",
       "\n",
       "      img_num                              p1   p1_conf  p1_dog  \\\n",
       "415         1                        Pembroke  0.742320    True   \n",
       "1582        1  American_Staffordshire_terrier  0.463996    True   \n",
       "335         1                          carton  0.952613   False   \n",
       "1977        1                golden_retriever  0.841001    True   \n",
       "681         1                        malamute  0.577376    True   \n",
       "\n",
       "                             p2   p2_conf  p2_dog                  p3  \\\n",
       "415                    Cardigan  0.084937    True          Eskimo_dog   \n",
       "1582  Staffordshire_bullterrier  0.155566    True          Weimaraner   \n",
       "335                       crate  0.035376   False                 pug   \n",
       "1977             Great_Pyrenees  0.099278    True  Labrador_retriever   \n",
       "681              Siberian_husky  0.287131    True          Eskimo_dog   \n",
       "\n",
       "       p3_conf  p3_dog  \n",
       "415   0.068321    True  \n",
       "1582  0.137587    True  \n",
       "335   0.003267    True  \n",
       "1977  0.032621    True  \n",
       "681   0.117563    True  "
      ]
     },
     "execution_count": 97,
     "metadata": {},
     "output_type": "execute_result"
    }
   ],
   "source": [
    "#afficher 5 lignes aléatoires de la base de données image_prediction\n",
    "image_prediction.sample(5)"
   ]
  },
  {
   "cell_type": "code",
   "execution_count": 98,
   "id": "6ecd67de",
   "metadata": {},
   "outputs": [
    {
     "data": {
      "text/plain": [
       "66"
      ]
     },
     "execution_count": 98,
     "metadata": {},
     "output_type": "execute_result"
    }
   ],
   "source": [
    "# vérifions s'il y a des lignes en double selon jpg_url\n",
    "image_prediction['jpg_url'].duplicated().sum()"
   ]
  },
  {
   "cell_type": "code",
   "execution_count": 99,
   "id": "35f2acc0",
   "metadata": {},
   "outputs": [
    {
     "data": {
      "text/plain": [
       "1    1780\n",
       "2     198\n",
       "3      66\n",
       "4      31\n",
       "Name: img_num, dtype: int64"
      ]
     },
     "execution_count": 99,
     "metadata": {},
     "output_type": "execute_result"
    }
   ],
   "source": [
    "# comptons le nombre de numéros d'image\n",
    "image_prediction.img_num.value_counts()"
   ]
  },
  {
   "cell_type": "code",
   "execution_count": 100,
   "id": "f4f069b9",
   "metadata": {},
   "outputs": [
    {
     "data": {
      "text/html": [
       "<div>\n",
       "<style scoped>\n",
       "    .dataframe tbody tr th:only-of-type {\n",
       "        vertical-align: middle;\n",
       "    }\n",
       "\n",
       "    .dataframe tbody tr th {\n",
       "        vertical-align: top;\n",
       "    }\n",
       "\n",
       "    .dataframe thead th {\n",
       "        text-align: right;\n",
       "    }\n",
       "</style>\n",
       "<table border=\"1\" class=\"dataframe\">\n",
       "  <thead>\n",
       "    <tr style=\"text-align: right;\">\n",
       "      <th></th>\n",
       "      <th>tweet_id</th>\n",
       "      <th>retweet_count</th>\n",
       "      <th>favorite_count</th>\n",
       "      <th>retweeted_status</th>\n",
       "    </tr>\n",
       "  </thead>\n",
       "  <tbody>\n",
       "    <tr>\n",
       "      <th>0</th>\n",
       "      <td>892420643555336193</td>\n",
       "      <td>8853</td>\n",
       "      <td>39467</td>\n",
       "      <td>Original tweet</td>\n",
       "    </tr>\n",
       "    <tr>\n",
       "      <th>1</th>\n",
       "      <td>892177421306343426</td>\n",
       "      <td>6514</td>\n",
       "      <td>33819</td>\n",
       "      <td>Original tweet</td>\n",
       "    </tr>\n",
       "    <tr>\n",
       "      <th>2</th>\n",
       "      <td>891815181378084864</td>\n",
       "      <td>4328</td>\n",
       "      <td>25461</td>\n",
       "      <td>Original tweet</td>\n",
       "    </tr>\n",
       "    <tr>\n",
       "      <th>3</th>\n",
       "      <td>891689557279858688</td>\n",
       "      <td>8964</td>\n",
       "      <td>42908</td>\n",
       "      <td>Original tweet</td>\n",
       "    </tr>\n",
       "    <tr>\n",
       "      <th>4</th>\n",
       "      <td>891327558926688256</td>\n",
       "      <td>9774</td>\n",
       "      <td>41048</td>\n",
       "      <td>Original tweet</td>\n",
       "    </tr>\n",
       "    <tr>\n",
       "      <th>...</th>\n",
       "      <td>...</td>\n",
       "      <td>...</td>\n",
       "      <td>...</td>\n",
       "      <td>...</td>\n",
       "    </tr>\n",
       "    <tr>\n",
       "      <th>2349</th>\n",
       "      <td>666049248165822465</td>\n",
       "      <td>41</td>\n",
       "      <td>111</td>\n",
       "      <td>Original tweet</td>\n",
       "    </tr>\n",
       "    <tr>\n",
       "      <th>2350</th>\n",
       "      <td>666044226329800704</td>\n",
       "      <td>147</td>\n",
       "      <td>311</td>\n",
       "      <td>Original tweet</td>\n",
       "    </tr>\n",
       "    <tr>\n",
       "      <th>2351</th>\n",
       "      <td>666033412701032449</td>\n",
       "      <td>47</td>\n",
       "      <td>128</td>\n",
       "      <td>Original tweet</td>\n",
       "    </tr>\n",
       "    <tr>\n",
       "      <th>2352</th>\n",
       "      <td>666029285002620928</td>\n",
       "      <td>48</td>\n",
       "      <td>132</td>\n",
       "      <td>Original tweet</td>\n",
       "    </tr>\n",
       "    <tr>\n",
       "      <th>2353</th>\n",
       "      <td>666020888022790149</td>\n",
       "      <td>532</td>\n",
       "      <td>2535</td>\n",
       "      <td>Original tweet</td>\n",
       "    </tr>\n",
       "  </tbody>\n",
       "</table>\n",
       "<p>2354 rows × 4 columns</p>\n",
       "</div>"
      ],
      "text/plain": [
       "                tweet_id  retweet_count  favorite_count retweeted_status\n",
       "0     892420643555336193           8853           39467   Original tweet\n",
       "1     892177421306343426           6514           33819   Original tweet\n",
       "2     891815181378084864           4328           25461   Original tweet\n",
       "3     891689557279858688           8964           42908   Original tweet\n",
       "4     891327558926688256           9774           41048   Original tweet\n",
       "...                  ...            ...             ...              ...\n",
       "2349  666049248165822465             41             111   Original tweet\n",
       "2350  666044226329800704            147             311   Original tweet\n",
       "2351  666033412701032449             47             128   Original tweet\n",
       "2352  666029285002620928             48             132   Original tweet\n",
       "2353  666020888022790149            532            2535   Original tweet\n",
       "\n",
       "[2354 rows x 4 columns]"
      ]
     },
     "execution_count": 100,
     "metadata": {},
     "output_type": "execute_result"
    }
   ],
   "source": [
    "# lecture de la table Donnees_supplémentaires\n",
    "Donnees_supplémentaires"
   ]
  },
  {
   "cell_type": "code",
   "execution_count": 101,
   "id": "8f230603",
   "metadata": {},
   "outputs": [
    {
     "name": "stdout",
     "output_type": "stream",
     "text": [
      "<class 'pandas.core.frame.DataFrame'>\n",
      "RangeIndex: 2354 entries, 0 to 2353\n",
      "Data columns (total 4 columns):\n",
      " #   Column            Non-Null Count  Dtype \n",
      "---  ------            --------------  ----- \n",
      " 0   tweet_id          2354 non-null   int64 \n",
      " 1   retweet_count     2354 non-null   int64 \n",
      " 2   favorite_count    2354 non-null   int64 \n",
      " 3   retweeted_status  2354 non-null   object\n",
      "dtypes: int64(3), object(1)\n",
      "memory usage: 73.7+ KB\n"
     ]
    }
   ],
   "source": [
    "# afficher les informations de la base de données Donnees_supplémentaires\n",
    "Donnees_supplémentaires.info()"
   ]
  },
  {
   "cell_type": "code",
   "execution_count": 102,
   "id": "15743980",
   "metadata": {},
   "outputs": [
    {
     "data": {
      "text/plain": [
       "['tweet_id', 'retweet_count', 'favorite_count', 'retweeted_status']"
      ]
     },
     "execution_count": 102,
     "metadata": {},
     "output_type": "execute_result"
    }
   ],
   "source": [
    "#afficher la liste des colonnes de la base de données Donnees_supplémentaires\n",
    "list(Donnees_supplémentaires)"
   ]
  },
  {
   "cell_type": "code",
   "execution_count": 103,
   "id": "ecc17f9a",
   "metadata": {},
   "outputs": [
    {
     "data": {
      "text/html": [
       "<div>\n",
       "<style scoped>\n",
       "    .dataframe tbody tr th:only-of-type {\n",
       "        vertical-align: middle;\n",
       "    }\n",
       "\n",
       "    .dataframe tbody tr th {\n",
       "        vertical-align: top;\n",
       "    }\n",
       "\n",
       "    .dataframe thead th {\n",
       "        text-align: right;\n",
       "    }\n",
       "</style>\n",
       "<table border=\"1\" class=\"dataframe\">\n",
       "  <thead>\n",
       "    <tr style=\"text-align: right;\">\n",
       "      <th></th>\n",
       "      <th>tweet_id</th>\n",
       "      <th>retweet_count</th>\n",
       "      <th>favorite_count</th>\n",
       "    </tr>\n",
       "  </thead>\n",
       "  <tbody>\n",
       "    <tr>\n",
       "      <th>count</th>\n",
       "      <td>2.354000e+03</td>\n",
       "      <td>2354.000000</td>\n",
       "      <td>2354.000000</td>\n",
       "    </tr>\n",
       "    <tr>\n",
       "      <th>mean</th>\n",
       "      <td>7.426978e+17</td>\n",
       "      <td>3164.797366</td>\n",
       "      <td>8080.968564</td>\n",
       "    </tr>\n",
       "    <tr>\n",
       "      <th>std</th>\n",
       "      <td>6.852812e+16</td>\n",
       "      <td>5284.770364</td>\n",
       "      <td>11814.771334</td>\n",
       "    </tr>\n",
       "    <tr>\n",
       "      <th>min</th>\n",
       "      <td>6.660209e+17</td>\n",
       "      <td>0.000000</td>\n",
       "      <td>0.000000</td>\n",
       "    </tr>\n",
       "    <tr>\n",
       "      <th>25%</th>\n",
       "      <td>6.783975e+17</td>\n",
       "      <td>624.500000</td>\n",
       "      <td>1415.000000</td>\n",
       "    </tr>\n",
       "    <tr>\n",
       "      <th>50%</th>\n",
       "      <td>7.194596e+17</td>\n",
       "      <td>1473.500000</td>\n",
       "      <td>3603.500000</td>\n",
       "    </tr>\n",
       "    <tr>\n",
       "      <th>75%</th>\n",
       "      <td>7.993058e+17</td>\n",
       "      <td>3652.000000</td>\n",
       "      <td>10122.250000</td>\n",
       "    </tr>\n",
       "    <tr>\n",
       "      <th>max</th>\n",
       "      <td>8.924206e+17</td>\n",
       "      <td>79515.000000</td>\n",
       "      <td>132810.000000</td>\n",
       "    </tr>\n",
       "  </tbody>\n",
       "</table>\n",
       "</div>"
      ],
      "text/plain": [
       "           tweet_id  retweet_count  favorite_count\n",
       "count  2.354000e+03    2354.000000     2354.000000\n",
       "mean   7.426978e+17    3164.797366     8080.968564\n",
       "std    6.852812e+16    5284.770364    11814.771334\n",
       "min    6.660209e+17       0.000000        0.000000\n",
       "25%    6.783975e+17     624.500000     1415.000000\n",
       "50%    7.194596e+17    1473.500000     3603.500000\n",
       "75%    7.993058e+17    3652.000000    10122.250000\n",
       "max    8.924206e+17   79515.000000   132810.000000"
      ]
     },
     "execution_count": 103,
     "metadata": {},
     "output_type": "execute_result"
    }
   ],
   "source": [
    "# afficher la description de la base de données Donnees_supplémentaires\n",
    "Donnees_supplémentaires.describe()"
   ]
  },
  {
   "cell_type": "code",
   "execution_count": 104,
   "id": "4f049597",
   "metadata": {},
   "outputs": [
    {
     "data": {
      "text/html": [
       "<div>\n",
       "<style scoped>\n",
       "    .dataframe tbody tr th:only-of-type {\n",
       "        vertical-align: middle;\n",
       "    }\n",
       "\n",
       "    .dataframe tbody tr th {\n",
       "        vertical-align: top;\n",
       "    }\n",
       "\n",
       "    .dataframe thead th {\n",
       "        text-align: right;\n",
       "    }\n",
       "</style>\n",
       "<table border=\"1\" class=\"dataframe\">\n",
       "  <thead>\n",
       "    <tr style=\"text-align: right;\">\n",
       "      <th></th>\n",
       "      <th>tweet_id</th>\n",
       "      <th>retweet_count</th>\n",
       "      <th>favorite_count</th>\n",
       "      <th>retweeted_status</th>\n",
       "    </tr>\n",
       "  </thead>\n",
       "  <tbody>\n",
       "    <tr>\n",
       "      <th>129</th>\n",
       "      <td>867072653475098625</td>\n",
       "      <td>135</td>\n",
       "      <td>0</td>\n",
       "      <td>This is a retweet</td>\n",
       "    </tr>\n",
       "    <tr>\n",
       "      <th>1468</th>\n",
       "      <td>694001791655137281</td>\n",
       "      <td>1176</td>\n",
       "      <td>3705</td>\n",
       "      <td>Original tweet</td>\n",
       "    </tr>\n",
       "    <tr>\n",
       "      <th>1344</th>\n",
       "      <td>704480331685040129</td>\n",
       "      <td>1197</td>\n",
       "      <td>3723</td>\n",
       "      <td>Original tweet</td>\n",
       "    </tr>\n",
       "    <tr>\n",
       "      <th>1574</th>\n",
       "      <td>687460506001633280</td>\n",
       "      <td>614</td>\n",
       "      <td>2243</td>\n",
       "      <td>Original tweet</td>\n",
       "    </tr>\n",
       "    <tr>\n",
       "      <th>2143</th>\n",
       "      <td>669926384437997569</td>\n",
       "      <td>115</td>\n",
       "      <td>400</td>\n",
       "      <td>Original tweet</td>\n",
       "    </tr>\n",
       "  </tbody>\n",
       "</table>\n",
       "</div>"
      ],
      "text/plain": [
       "                tweet_id  retweet_count  favorite_count   retweeted_status\n",
       "129   867072653475098625            135               0  This is a retweet\n",
       "1468  694001791655137281           1176            3705     Original tweet\n",
       "1344  704480331685040129           1197            3723     Original tweet\n",
       "1574  687460506001633280            614            2243     Original tweet\n",
       "2143  669926384437997569            115             400     Original tweet"
      ]
     },
     "execution_count": 104,
     "metadata": {},
     "output_type": "execute_result"
    }
   ],
   "source": [
    "# afficher 5 lignes aléatoires de la base de données Donnees_supplémentaires\n",
    "Donnees_supplémentaires.sample(5)"
   ]
  },
  {
   "cell_type": "code",
   "execution_count": 105,
   "id": "7419de9a",
   "metadata": {},
   "outputs": [
    {
     "data": {
      "text/plain": [
       "0"
      ]
     },
     "execution_count": 105,
     "metadata": {},
     "output_type": "execute_result"
    }
   ],
   "source": [
    "# vérifier s'il y a des lignes en double dans la base de données Donnees_supplémentaires\n",
    "Donnees_supplémentaires['tweet_id'].duplicated().sum()"
   ]
  },
  {
   "cell_type": "code",
   "execution_count": 106,
   "id": "a66428b3",
   "metadata": {},
   "outputs": [
    {
     "data": {
      "text/plain": [
       "17    tweet_id\n",
       "29    tweet_id\n",
       "dtype: object"
      ]
     },
     "execution_count": 106,
     "metadata": {},
     "output_type": "execute_result"
    }
   ],
   "source": [
    "# vérifions que ce sont bien les colonnes qui se répètent\n",
    "all_columns = pd.Series(list(twitter_archive) + list(image_prediction) + list(Donnees_supplémentaires))\n",
    "all_columns[all_columns.duplicated()]"
   ]
  },
  {
   "cell_type": "markdown",
   "id": "2d15b526",
   "metadata": {},
   "source": [
    "#### Qualité\n",
    "##### `twitter_archive_enhanced` table\n",
    "- Le rating_numerator est un float et non un int\n",
    "- Supprimer les colonnes qui ne seront pas utilisées pour l'analyse\n",
    "- Corriger les numérateurs avec des décimales\n",
    "- Types de données erronés\n",
    "- Nuls représentés par None\n",
    "\n",
    "##### `image-predictions` table\n",
    "- Supprimer les lignes en double\n",
    "- Supprimer les colonnes qui ne seront pas utilisées pour l'analyse\n",
    "\n",
    "##### `Donnees_supplémentaires` table\n",
    "- Supprimer les retweet"
   ]
  },
  {
   "cell_type": "markdown",
   "id": "d17b85cc",
   "metadata": {},
   "source": [
    "#### Propreté\n",
    "- la colonne timestamp dans la table \"twitter_archive_enhanced\" doit être divisée en date_tweet et hour_tweet\n",
    "- une variable etape_chien au lieu de quatre colonnes dans la table \"twitter_archive_enhanced\" (doggo , floofer ,pupper , puppo')\n",
    "- Créer 1 colonne pour la prédiction d'image et 1 colonne pour le niveau de confiance dans le tableau \"image-predictions\"\n",
    "- Toutes les tables doivent faire partie d'un ensemble de données"
   ]
  },
  {
   "cell_type": "markdown",
   "id": "114ed40f",
   "metadata": {},
   "source": [
    "<a id='netoyage'></a>\n",
    "# Étape 3 : Nétoyage des données"
   ]
  },
  {
   "cell_type": "code",
   "execution_count": 107,
   "id": "3c8b7d84",
   "metadata": {},
   "outputs": [],
   "source": [
    "#stockons notre table dans une nouvelle variable\n",
    "twitter_archive_clean = twitter_archive.copy()\n",
    "image_predictions_clean = image_prediction.copy()\n",
    "donnees_supplémentaires_clean = Donnees_supplémentaires.copy()"
   ]
  },
  {
   "cell_type": "markdown",
   "id": "1c987e30",
   "metadata": {},
   "source": [
    "#### `twitter_archive`: Le rating_numerator est un float et non un int"
   ]
  },
  {
   "cell_type": "markdown",
   "id": "e6d00c15",
   "metadata": {},
   "source": [
    "##### Définir\n",
    "*Covertissons le type de donnée de la colonne rating_numerator en float*"
   ]
  },
  {
   "cell_type": "markdown",
   "id": "18370fa2",
   "metadata": {},
   "source": [
    "##### Code"
   ]
  },
  {
   "cell_type": "code",
   "execution_count": 108,
   "id": "05d747df",
   "metadata": {},
   "outputs": [],
   "source": [
    "twitter_archive_clean[['rating_numerator']] = twitter_archive_clean[['rating_numerator']].astype(float)"
   ]
  },
  {
   "cell_type": "markdown",
   "id": "94237232",
   "metadata": {},
   "source": [
    "#### test"
   ]
  },
  {
   "cell_type": "code",
   "execution_count": 109,
   "id": "d8c693c8",
   "metadata": {},
   "outputs": [
    {
     "name": "stdout",
     "output_type": "stream",
     "text": [
      "<class 'pandas.core.series.Series'>\n",
      "RangeIndex: 2356 entries, 0 to 2355\n",
      "Series name: rating_numerator\n",
      "Non-Null Count  Dtype  \n",
      "--------------  -----  \n",
      "2356 non-null   float64\n",
      "dtypes: float64(1)\n",
      "memory usage: 18.5 KB\n"
     ]
    }
   ],
   "source": [
    "#afficher les informations de twitter_archive\n",
    "twitter_archive_clean.rating_numerator.info()"
   ]
  },
  {
   "cell_type": "markdown",
   "id": "b1fae0a7",
   "metadata": {},
   "source": [
    "#### `twitter_archive`: Supprimer les colonnes qui ne seront pas utilisées pour l'analyse"
   ]
  },
  {
   "cell_type": "markdown",
   "id": "a311d47d",
   "metadata": {},
   "source": [
    "##### Définir\n",
    "*Supprimons les colonnes qui ne vont pas nous servir dans notre analyse\n",
    ": 'source','in_reply_to_status_id','in_reply_to_user_id','retweeted_status_id','retweeted_status_user_id', 'retweeted_status_timestamp','expanded_urls'*"
   ]
  },
  {
   "cell_type": "markdown",
   "id": "793a13ac",
   "metadata": {},
   "source": [
    "#### code"
   ]
  },
  {
   "cell_type": "code",
   "execution_count": 110,
   "id": "5c6a0cff",
   "metadata": {},
   "outputs": [],
   "source": [
    "twitter_archive_clean.drop(['source','in_reply_to_status_id','in_reply_to_user_id',\n",
    "                            'retweeted_status_id','retweeted_status_user_id',\n",
    "                            'retweeted_status_timestamp','expanded_urls'],axis = 1, inplace=True)"
   ]
  },
  {
   "cell_type": "markdown",
   "id": "d14ff01d",
   "metadata": {},
   "source": [
    "#### test"
   ]
  },
  {
   "cell_type": "code",
   "execution_count": 111,
   "id": "0b29cedb",
   "metadata": {},
   "outputs": [
    {
     "data": {
      "text/plain": [
       "['tweet_id',\n",
       " 'timestamp',\n",
       " 'text',\n",
       " 'rating_numerator',\n",
       " 'rating_denominator',\n",
       " 'name',\n",
       " 'doggo',\n",
       " 'floofer',\n",
       " 'pupper',\n",
       " 'puppo']"
      ]
     },
     "execution_count": 111,
     "metadata": {},
     "output_type": "execute_result"
    }
   ],
   "source": [
    "#afficher la liste des colonne de twitter_archive_clean\n",
    "list(twitter_archive_clean)"
   ]
  },
  {
   "cell_type": "markdown",
   "id": "b3c3e966",
   "metadata": {},
   "source": [
    "#### `twitter_archive`: Corriger les numérateurs avec des décimales"
   ]
  },
  {
   "cell_type": "markdown",
   "id": "fff025d3",
   "metadata": {},
   "source": [
    "##### Définir\n",
    "*Corrigons le numérateur de façon manuelle en leurs assignant leurs valeur décimale qui est dans leurs texte*"
   ]
  },
  {
   "cell_type": "markdown",
   "id": "e66c741d",
   "metadata": {},
   "source": [
    "##### code"
   ]
  },
  {
   "cell_type": "code",
   "execution_count": 112,
   "id": "26aaf60d",
   "metadata": {},
   "outputs": [],
   "source": [
    "twitter_archive_clean.loc[(twitter_archive_clean.tweet_id == 883482846933004288), 'rating_numerator'] = 13.5\n",
    "twitter_archive_clean.loc[(twitter_archive_clean.tweet_id == 832215909146226688), 'rating_numerator'] = 9.75\n",
    "twitter_archive_clean.loc[(twitter_archive_clean.tweet_id == 786709082849828864), 'rating_numerator'] = 9.75\n",
    "twitter_archive_clean.loc[(twitter_archive_clean.tweet_id == 778027034220126208), 'rating_numerator'] = 11.27\n",
    "twitter_archive_clean.loc[(twitter_archive_clean.tweet_id == 681340665377193984), 'rating_numerator'] = 9.5\n",
    "twitter_archive_clean.loc[(twitter_archive_clean.tweet_id == 680494726643068929), 'rating_numerator'] = 11.26"
   ]
  },
  {
   "cell_type": "markdown",
   "id": "8f37d329",
   "metadata": {},
   "source": [
    "#### test"
   ]
  },
  {
   "cell_type": "code",
   "execution_count": 113,
   "id": "a2b130b2",
   "metadata": {},
   "outputs": [
    {
     "name": "stderr",
     "output_type": "stream",
     "text": [
      "C:\\Users\\Jaures\\AppData\\Local\\Temp\\ipykernel_8480\\758689770.py:3: UserWarning: This pattern is interpreted as a regular expression, and has match groups. To actually get the groups, use str.extract.\n",
      "  display(twitter_archive_clean[twitter_archive['text'].str.contains(r\"(\\d+\\.\\d*\\/\\d+)\")]\n"
     ]
    },
    {
     "data": {
      "text/html": [
       "<div>\n",
       "<style scoped>\n",
       "    .dataframe tbody tr th:only-of-type {\n",
       "        vertical-align: middle;\n",
       "    }\n",
       "\n",
       "    .dataframe tbody tr th {\n",
       "        vertical-align: top;\n",
       "    }\n",
       "\n",
       "    .dataframe thead th {\n",
       "        text-align: right;\n",
       "    }\n",
       "</style>\n",
       "<table border=\"1\" class=\"dataframe\">\n",
       "  <thead>\n",
       "    <tr style=\"text-align: right;\">\n",
       "      <th></th>\n",
       "      <th>tweet_id</th>\n",
       "      <th>text</th>\n",
       "      <th>rating_numerator</th>\n",
       "      <th>rating_denominator</th>\n",
       "    </tr>\n",
       "  </thead>\n",
       "  <tbody>\n",
       "    <tr>\n",
       "      <th>45</th>\n",
       "      <td>883482846933004288</td>\n",
       "      <td>This is Bella. She hopes her smile made you smile. If not, she is also offering you her favorite monkey. 13.5/10 https://t.co/qjrljjt948</td>\n",
       "      <td>13.50</td>\n",
       "      <td>10</td>\n",
       "    </tr>\n",
       "    <tr>\n",
       "      <th>340</th>\n",
       "      <td>832215909146226688</td>\n",
       "      <td>RT @dog_rates: This is Logan, the Chow who lived. He solemnly swears he's up to lots of good. H*ckin magical af 9.75/10 https://t.co/yBO5wu…</td>\n",
       "      <td>9.75</td>\n",
       "      <td>10</td>\n",
       "    </tr>\n",
       "    <tr>\n",
       "      <th>695</th>\n",
       "      <td>786709082849828864</td>\n",
       "      <td>This is Logan, the Chow who lived. He solemnly swears he's up to lots of good. H*ckin magical af 9.75/10 https://t.co/yBO5wuqaPS</td>\n",
       "      <td>9.75</td>\n",
       "      <td>10</td>\n",
       "    </tr>\n",
       "    <tr>\n",
       "      <th>763</th>\n",
       "      <td>778027034220126208</td>\n",
       "      <td>This is Sophie. She's a Jubilant Bush Pupper. Super h*ckin rare. Appears at random just to smile at the locals. 11.27/10 would smile back https://t.co/QFaUiIHxHq</td>\n",
       "      <td>11.27</td>\n",
       "      <td>10</td>\n",
       "    </tr>\n",
       "    <tr>\n",
       "      <th>1689</th>\n",
       "      <td>681340665377193984</td>\n",
       "      <td>I've been told there's a slight possibility he's checking his mirror. We'll bump to 9.5/10. Still a menace</td>\n",
       "      <td>9.50</td>\n",
       "      <td>10</td>\n",
       "    </tr>\n",
       "    <tr>\n",
       "      <th>1712</th>\n",
       "      <td>680494726643068929</td>\n",
       "      <td>Here we have uncovered an entire battalion of holiday puppers. Average of 11.26/10 https://t.co/eNm2S6p9BD</td>\n",
       "      <td>11.26</td>\n",
       "      <td>10</td>\n",
       "    </tr>\n",
       "  </tbody>\n",
       "</table>\n",
       "</div>"
      ],
      "text/plain": [
       "                tweet_id  \\\n",
       "45    883482846933004288   \n",
       "340   832215909146226688   \n",
       "695   786709082849828864   \n",
       "763   778027034220126208   \n",
       "1689  681340665377193984   \n",
       "1712  680494726643068929   \n",
       "\n",
       "                                                                                                                                                                   text  \\\n",
       "45                             This is Bella. She hopes her smile made you smile. If not, she is also offering you her favorite monkey. 13.5/10 https://t.co/qjrljjt948   \n",
       "340                        RT @dog_rates: This is Logan, the Chow who lived. He solemnly swears he's up to lots of good. H*ckin magical af 9.75/10 https://t.co/yBO5wu…   \n",
       "695                                    This is Logan, the Chow who lived. He solemnly swears he's up to lots of good. H*ckin magical af 9.75/10 https://t.co/yBO5wuqaPS   \n",
       "763   This is Sophie. She's a Jubilant Bush Pupper. Super h*ckin rare. Appears at random just to smile at the locals. 11.27/10 would smile back https://t.co/QFaUiIHxHq   \n",
       "1689                                                         I've been told there's a slight possibility he's checking his mirror. We'll bump to 9.5/10. Still a menace   \n",
       "1712                                                         Here we have uncovered an entire battalion of holiday puppers. Average of 11.26/10 https://t.co/eNm2S6p9BD   \n",
       "\n",
       "      rating_numerator  rating_denominator  \n",
       "45               13.50                  10  \n",
       "340               9.75                  10  \n",
       "695               9.75                  10  \n",
       "763              11.27                  10  \n",
       "1689              9.50                  10  \n",
       "1712             11.26                  10  "
      ]
     },
     "metadata": {},
     "output_type": "display_data"
    }
   ],
   "source": [
    "#vérifions si les numerateur on bien réçu leurs valeurs\n",
    "with pd.option_context('max_colwidth', 200):\n",
    "    display(twitter_archive_clean[twitter_archive['text'].str.contains(r\"(\\d+\\.\\d*\\/\\d+)\")]\n",
    "            [['tweet_id', 'text', 'rating_numerator', 'rating_denominator']])"
   ]
  },
  {
   "cell_type": "markdown",
   "id": "b14a8066",
   "metadata": {},
   "source": [
    "#### `twitter_archive`: La colonne de timestamp dans le tableau \"twitter_archive_enhanced\" doit être divisée en date_tweet et heure_tweet"
   ]
  },
  {
   "cell_type": "markdown",
   "id": "52d68fd5",
   "metadata": {},
   "source": [
    "##### Définir\n",
    "*Créons 2 fonctions, l'un qui va extrait les dates et l'autres qui va extrait les heures *"
   ]
  },
  {
   "cell_type": "markdown",
   "id": "0dfb44cb",
   "metadata": {},
   "source": [
    "#### code"
   ]
  },
  {
   "cell_type": "code",
   "execution_count": 114,
   "id": "acc7c253",
   "metadata": {},
   "outputs": [],
   "source": [
    "# fonction qui va extrait les dates\n",
    "def date(x):\n",
    "    return x.split(' ')[0]\n",
    "# fonction qui va extrait les heures\n",
    "def heure(x):\n",
    "    return x.split(' ')[1]\n",
    "\n",
    "twitter_archive_clean['date_tweet'] = twitter_archive_clean['timestamp'].apply(date)\n",
    "twitter_archive_clean['heure_tweet'] = twitter_archive_clean['timestamp'].apply(heure)\n",
    "\n",
    "twitter_archive_clean = twitter_archive_clean.drop('timestamp', axis=1)"
   ]
  },
  {
   "cell_type": "markdown",
   "id": "2c22fbf3",
   "metadata": {},
   "source": [
    "#### test"
   ]
  },
  {
   "cell_type": "code",
   "execution_count": 115,
   "id": "3bcdbed3",
   "metadata": {},
   "outputs": [
    {
     "data": {
      "text/html": [
       "<div>\n",
       "<style scoped>\n",
       "    .dataframe tbody tr th:only-of-type {\n",
       "        vertical-align: middle;\n",
       "    }\n",
       "\n",
       "    .dataframe tbody tr th {\n",
       "        vertical-align: top;\n",
       "    }\n",
       "\n",
       "    .dataframe thead th {\n",
       "        text-align: right;\n",
       "    }\n",
       "</style>\n",
       "<table border=\"1\" class=\"dataframe\">\n",
       "  <thead>\n",
       "    <tr style=\"text-align: right;\">\n",
       "      <th></th>\n",
       "      <th>tweet_id</th>\n",
       "      <th>text</th>\n",
       "      <th>rating_numerator</th>\n",
       "      <th>rating_denominator</th>\n",
       "      <th>name</th>\n",
       "      <th>doggo</th>\n",
       "      <th>floofer</th>\n",
       "      <th>pupper</th>\n",
       "      <th>puppo</th>\n",
       "      <th>date_tweet</th>\n",
       "      <th>heure_tweet</th>\n",
       "    </tr>\n",
       "  </thead>\n",
       "  <tbody>\n",
       "    <tr>\n",
       "      <th>0</th>\n",
       "      <td>892420643555336193</td>\n",
       "      <td>This is Phineas. He's a mystical boy. Only eve...</td>\n",
       "      <td>13.0</td>\n",
       "      <td>10</td>\n",
       "      <td>Phineas</td>\n",
       "      <td>None</td>\n",
       "      <td>None</td>\n",
       "      <td>None</td>\n",
       "      <td>None</td>\n",
       "      <td>2017-08-01</td>\n",
       "      <td>16:23:56</td>\n",
       "    </tr>\n",
       "  </tbody>\n",
       "</table>\n",
       "</div>"
      ],
      "text/plain": [
       "             tweet_id                                               text  \\\n",
       "0  892420643555336193  This is Phineas. He's a mystical boy. Only eve...   \n",
       "\n",
       "   rating_numerator  rating_denominator     name doggo floofer pupper puppo  \\\n",
       "0              13.0                  10  Phineas  None    None   None  None   \n",
       "\n",
       "   date_tweet heure_tweet  \n",
       "0  2017-08-01    16:23:56  "
      ]
     },
     "execution_count": 115,
     "metadata": {},
     "output_type": "execute_result"
    }
   ],
   "source": [
    "# affichons la prémière ligne de la table twitter_archive_clean\n",
    "twitter_archive_clean.head(1)"
   ]
  },
  {
   "cell_type": "markdown",
   "id": "d15d6ab8",
   "metadata": {},
   "source": [
    "#### `twitter_archive`: Types de données erronés"
   ]
  },
  {
   "cell_type": "markdown",
   "id": "19a8e09e",
   "metadata": {},
   "source": [
    "##### Définir\n",
    "*convertisons les types de données erronés dans leurs bon format*"
   ]
  },
  {
   "cell_type": "markdown",
   "id": "4a3cff0a",
   "metadata": {},
   "source": [
    "#### code"
   ]
  },
  {
   "cell_type": "code",
   "execution_count": 116,
   "id": "0aa1dd9e",
   "metadata": {},
   "outputs": [],
   "source": [
    "twitter_archive_clean['date_tweet'] = pd.to_datetime(twitter_archive_clean['date_tweet'])\n",
    "twitter_archive_clean['heure_tweet'] = pd.to_datetime(twitter_archive_clean['heure_tweet']).dt.time"
   ]
  },
  {
   "cell_type": "markdown",
   "id": "b5cb22f5",
   "metadata": {},
   "source": [
    "#### test"
   ]
  },
  {
   "cell_type": "code",
   "execution_count": 117,
   "id": "50f5dc95",
   "metadata": {},
   "outputs": [
    {
     "name": "stdout",
     "output_type": "stream",
     "text": [
      "<class 'pandas.core.frame.DataFrame'>\n",
      "RangeIndex: 2356 entries, 0 to 2355\n",
      "Data columns (total 11 columns):\n",
      " #   Column              Non-Null Count  Dtype         \n",
      "---  ------              --------------  -----         \n",
      " 0   tweet_id            2356 non-null   int64         \n",
      " 1   text                2356 non-null   object        \n",
      " 2   rating_numerator    2356 non-null   float64       \n",
      " 3   rating_denominator  2356 non-null   int64         \n",
      " 4   name                2356 non-null   object        \n",
      " 5   doggo               2356 non-null   object        \n",
      " 6   floofer             2356 non-null   object        \n",
      " 7   pupper              2356 non-null   object        \n",
      " 8   puppo               2356 non-null   object        \n",
      " 9   date_tweet          2356 non-null   datetime64[ns]\n",
      " 10  heure_tweet         2356 non-null   object        \n",
      "dtypes: datetime64[ns](1), float64(1), int64(2), object(7)\n",
      "memory usage: 202.6+ KB\n"
     ]
    }
   ],
   "source": [
    "#afficher les informations de twitter_archive\n",
    "twitter_archive_clean.info()"
   ]
  },
  {
   "cell_type": "markdown",
   "id": "2945d8cb",
   "metadata": {},
   "source": [
    "#### `twitter_archive`: une variable etape_chien au lieu de quatre colonnes dans le tableau \"twitter_archive_enhanced\" (doggo , floofer ,pupper , puppo')"
   ]
  },
  {
   "cell_type": "markdown",
   "id": "97a8896b",
   "metadata": {},
   "source": [
    "##### Définir\n",
    "*Créons une nouvelle colonne qui va stocker le stage du chien*"
   ]
  },
  {
   "cell_type": "markdown",
   "id": "c1c9fb7a",
   "metadata": {},
   "source": [
    "##### code"
   ]
  },
  {
   "cell_type": "code",
   "execution_count": 118,
   "id": "711c09d3",
   "metadata": {},
   "outputs": [],
   "source": [
    "twitter_archive_clean = pd.melt(twitter_archive_clean, id_vars=['tweet_id',                                          \n",
    "                                                                'text',\n",
    "                                                                'rating_numerator',\n",
    "                                                                'rating_denominator',\n",
    "                                                                'name',\n",
    "                                                                'date_tweet',\n",
    "                                                                'heure_tweet'],\n",
    "                               var_name='dogs', value_name='dogs_stage')\n",
    "\n",
    "# supprimons dogs\n",
    "twitter_archive_clean = twitter_archive_clean.drop('dogs', axis = 1)\n",
    "\n",
    "twitter_archive_clean = twitter_archive_clean.sort_values('dogs_stage').drop_duplicates(subset='tweet_id', \n",
    "                                                                                        keep='last')"
   ]
  },
  {
   "cell_type": "markdown",
   "id": "398ee467",
   "metadata": {},
   "source": [
    "#### test"
   ]
  },
  {
   "cell_type": "code",
   "execution_count": 119,
   "id": "f2801820",
   "metadata": {},
   "outputs": [
    {
     "data": {
      "text/html": [
       "<div>\n",
       "<style scoped>\n",
       "    .dataframe tbody tr th:only-of-type {\n",
       "        vertical-align: middle;\n",
       "    }\n",
       "\n",
       "    .dataframe tbody tr th {\n",
       "        vertical-align: top;\n",
       "    }\n",
       "\n",
       "    .dataframe thead th {\n",
       "        text-align: right;\n",
       "    }\n",
       "</style>\n",
       "<table border=\"1\" class=\"dataframe\">\n",
       "  <thead>\n",
       "    <tr style=\"text-align: right;\">\n",
       "      <th></th>\n",
       "      <th>tweet_id</th>\n",
       "      <th>text</th>\n",
       "      <th>rating_numerator</th>\n",
       "      <th>rating_denominator</th>\n",
       "      <th>name</th>\n",
       "      <th>date_tweet</th>\n",
       "      <th>heure_tweet</th>\n",
       "      <th>dogs_stage</th>\n",
       "    </tr>\n",
       "  </thead>\n",
       "  <tbody>\n",
       "    <tr>\n",
       "      <th>2259</th>\n",
       "      <td>667550904950915073</td>\n",
       "      <td>RT @dogratingrating: Exceptional talent. Origi...</td>\n",
       "      <td>12.0</td>\n",
       "      <td>10</td>\n",
       "      <td>None</td>\n",
       "      <td>2015-11-20</td>\n",
       "      <td>03:51:52</td>\n",
       "      <td>None</td>\n",
       "    </tr>\n",
       "  </tbody>\n",
       "</table>\n",
       "</div>"
      ],
      "text/plain": [
       "                tweet_id                                               text  \\\n",
       "2259  667550904950915073  RT @dogratingrating: Exceptional talent. Origi...   \n",
       "\n",
       "      rating_numerator  rating_denominator  name date_tweet heure_tweet  \\\n",
       "2259              12.0                  10  None 2015-11-20    03:51:52   \n",
       "\n",
       "     dogs_stage  \n",
       "2259       None  "
      ]
     },
     "execution_count": 119,
     "metadata": {},
     "output_type": "execute_result"
    }
   ],
   "source": [
    "# affichons la prémière ligne de la table twitter_archive_clean\n",
    "twitter_archive_clean.head(1)"
   ]
  },
  {
   "cell_type": "markdown",
   "id": "ce0b2645",
   "metadata": {},
   "source": [
    "#### `image-predictions`: Supprimer les lignes dupliqué"
   ]
  },
  {
   "cell_type": "markdown",
   "id": "0eb0ea91",
   "metadata": {},
   "source": [
    "##### Définir\n",
    "*Supprimons les ligne en double en fonction de la colonne jpg_url"
   ]
  },
  {
   "cell_type": "markdown",
   "id": "6f95d837",
   "metadata": {},
   "source": [
    "#### code"
   ]
  },
  {
   "cell_type": "code",
   "execution_count": 120,
   "id": "8e11fa3c",
   "metadata": {},
   "outputs": [],
   "source": [
    "image_predictions_clean.drop_duplicates(subset =\"jpg_url\", keep = 'last', inplace=True)"
   ]
  },
  {
   "cell_type": "markdown",
   "id": "0b29b4df",
   "metadata": {},
   "source": [
    "#### test"
   ]
  },
  {
   "cell_type": "code",
   "execution_count": 121,
   "id": "6baf332e",
   "metadata": {},
   "outputs": [
    {
     "data": {
      "text/plain": [
       "0"
      ]
     },
     "execution_count": 121,
     "metadata": {},
     "output_type": "execute_result"
    }
   ],
   "source": [
    "#afficher la somme des ligne dupliqué\n",
    "image_predictions_clean.jpg_url.duplicated().sum()"
   ]
  },
  {
   "cell_type": "markdown",
   "id": "f16d0740",
   "metadata": {},
   "source": [
    "#### `image-predictions`: Créez 1 colonne pour la prédiction d'image (type_dog) et 1 colonne pour le niveau de confiance (confidence_list) dans le tableau \"image-predictions\""
   ]
  },
  {
   "cell_type": "markdown",
   "id": "728150dc",
   "metadata": {},
   "source": [
    "##### Définir\n",
    "*créons une fonction pour capturer le type de chien et le niveau de confiance de la prédiction*"
   ]
  },
  {
   "cell_type": "markdown",
   "id": "a768ad72",
   "metadata": {},
   "source": [
    "#### code"
   ]
  },
  {
   "cell_type": "code",
   "execution_count": 122,
   "id": "d19460d1",
   "metadata": {},
   "outputs": [],
   "source": [
    "type_dog = []\n",
    "confidence_list = []\n",
    "\n",
    "#créons une fonction pour capturer le type de chien et le niveau de confiance \n",
    "def image(image_prediction_clean):\n",
    "    if image_prediction_clean['p1_dog'] == True:\n",
    "        type_dog.append(image_prediction_clean['p1'])\n",
    "        confidence_list.append(image_prediction_clean['p1_conf'])\n",
    "    elif image_prediction_clean['p2_dog'] == True:\n",
    "        type_dog.append(image_prediction_clean['p2'])\n",
    "        confidence_list.append(image_prediction_clean['p2_conf'])\n",
    "    elif image_prediction_clean['p3_dog'] == True:\n",
    "        type_dog.append(image_prediction_clean['p3'])\n",
    "        confidence_list.append(image_prediction_clean['p3_conf'])\n",
    "    else:\n",
    "        type_dog.append('Error')\n",
    "        confidence_list.append('Error')\n",
    "\n",
    "#appliquons la fonction\n",
    "image_predictions_clean.apply(image, axis=1)\n",
    "\n",
    "#creons les nouvelles colonnes\n",
    "image_predictions_clean['type_dog'] = type_dog\n",
    "image_predictions_clean['confidence_list'] = confidence_list"
   ]
  },
  {
   "cell_type": "markdown",
   "id": "f50d9162",
   "metadata": {},
   "source": [
    "#### test"
   ]
  },
  {
   "cell_type": "code",
   "execution_count": 123,
   "id": "628c5d97",
   "metadata": {},
   "outputs": [
    {
     "data": {
      "text/html": [
       "<div>\n",
       "<style scoped>\n",
       "    .dataframe tbody tr th:only-of-type {\n",
       "        vertical-align: middle;\n",
       "    }\n",
       "\n",
       "    .dataframe tbody tr th {\n",
       "        vertical-align: top;\n",
       "    }\n",
       "\n",
       "    .dataframe thead th {\n",
       "        text-align: right;\n",
       "    }\n",
       "</style>\n",
       "<table border=\"1\" class=\"dataframe\">\n",
       "  <thead>\n",
       "    <tr style=\"text-align: right;\">\n",
       "      <th></th>\n",
       "      <th>tweet_id</th>\n",
       "      <th>jpg_url</th>\n",
       "      <th>img_num</th>\n",
       "      <th>p1</th>\n",
       "      <th>p1_conf</th>\n",
       "      <th>p1_dog</th>\n",
       "      <th>p2</th>\n",
       "      <th>p2_conf</th>\n",
       "      <th>p2_dog</th>\n",
       "      <th>p3</th>\n",
       "      <th>p3_conf</th>\n",
       "      <th>p3_dog</th>\n",
       "      <th>type_dog</th>\n",
       "      <th>confidence_list</th>\n",
       "    </tr>\n",
       "  </thead>\n",
       "  <tbody>\n",
       "    <tr>\n",
       "      <th>0</th>\n",
       "      <td>666020888022790149</td>\n",
       "      <td>https://pbs.twimg.com/media/CT4udn0WwAA0aMy.jpg</td>\n",
       "      <td>1</td>\n",
       "      <td>Welsh_springer_spaniel</td>\n",
       "      <td>0.465074</td>\n",
       "      <td>True</td>\n",
       "      <td>collie</td>\n",
       "      <td>0.156665</td>\n",
       "      <td>True</td>\n",
       "      <td>Shetland_sheepdog</td>\n",
       "      <td>0.061428</td>\n",
       "      <td>True</td>\n",
       "      <td>Welsh_springer_spaniel</td>\n",
       "      <td>0.465074</td>\n",
       "    </tr>\n",
       "  </tbody>\n",
       "</table>\n",
       "</div>"
      ],
      "text/plain": [
       "             tweet_id                                          jpg_url  \\\n",
       "0  666020888022790149  https://pbs.twimg.com/media/CT4udn0WwAA0aMy.jpg   \n",
       "\n",
       "   img_num                      p1   p1_conf  p1_dog      p2   p2_conf  \\\n",
       "0        1  Welsh_springer_spaniel  0.465074    True  collie  0.156665   \n",
       "\n",
       "   p2_dog                 p3   p3_conf  p3_dog                type_dog  \\\n",
       "0    True  Shetland_sheepdog  0.061428    True  Welsh_springer_spaniel   \n",
       "\n",
       "  confidence_list  \n",
       "0        0.465074  "
      ]
     },
     "execution_count": 123,
     "metadata": {},
     "output_type": "execute_result"
    }
   ],
   "source": [
    "# affichons la prémière ligne de la table image_predictions_clean\n",
    "image_predictions_clean.head(1)"
   ]
  },
  {
   "cell_type": "markdown",
   "id": "50d0a526",
   "metadata": {},
   "source": [
    "#### `image-predictions`: Supprimer les colonnes qui ne seront pas utilisées pour l'analyse"
   ]
  },
  {
   "cell_type": "markdown",
   "id": "1f04bd2e",
   "metadata": {},
   "source": [
    "##### Définir\n",
    "*Supprimons les colonnes qui ne vont pas nous servir dans notre analyse\n",
    ": 'img_num', 'p1','p1_conf', 'p1_dog','p2', 'p2_conf','p2_dog', 'p3', 'p3_conf', 'p3_dog'*"
   ]
  },
  {
   "cell_type": "markdown",
   "id": "6706a3b8",
   "metadata": {},
   "source": [
    "#### code"
   ]
  },
  {
   "cell_type": "code",
   "execution_count": 124,
   "id": "8ac13390",
   "metadata": {},
   "outputs": [],
   "source": [
    "image_predictions_clean = image_predictions_clean.drop(['img_num', 'p1','p1_conf', 'p1_dog','p2', 'p2_conf', \n",
    "                                                      'p2_dog', 'p3', \n",
    "                                                      'p3_conf', \n",
    "                                                      'p3_dog'], axis=1)"
   ]
  },
  {
   "cell_type": "markdown",
   "id": "fe2aca22",
   "metadata": {},
   "source": [
    "#### test"
   ]
  },
  {
   "cell_type": "code",
   "execution_count": 125,
   "id": "4b748d95",
   "metadata": {},
   "outputs": [
    {
     "data": {
      "text/html": [
       "<div>\n",
       "<style scoped>\n",
       "    .dataframe tbody tr th:only-of-type {\n",
       "        vertical-align: middle;\n",
       "    }\n",
       "\n",
       "    .dataframe tbody tr th {\n",
       "        vertical-align: top;\n",
       "    }\n",
       "\n",
       "    .dataframe thead th {\n",
       "        text-align: right;\n",
       "    }\n",
       "</style>\n",
       "<table border=\"1\" class=\"dataframe\">\n",
       "  <thead>\n",
       "    <tr style=\"text-align: right;\">\n",
       "      <th></th>\n",
       "      <th>tweet_id</th>\n",
       "      <th>jpg_url</th>\n",
       "      <th>type_dog</th>\n",
       "      <th>confidence_list</th>\n",
       "    </tr>\n",
       "  </thead>\n",
       "  <tbody>\n",
       "    <tr>\n",
       "      <th>0</th>\n",
       "      <td>666020888022790149</td>\n",
       "      <td>https://pbs.twimg.com/media/CT4udn0WwAA0aMy.jpg</td>\n",
       "      <td>Welsh_springer_spaniel</td>\n",
       "      <td>0.465074</td>\n",
       "    </tr>\n",
       "  </tbody>\n",
       "</table>\n",
       "</div>"
      ],
      "text/plain": [
       "             tweet_id                                          jpg_url  \\\n",
       "0  666020888022790149  https://pbs.twimg.com/media/CT4udn0WwAA0aMy.jpg   \n",
       "\n",
       "                 type_dog confidence_list  \n",
       "0  Welsh_springer_spaniel        0.465074  "
      ]
     },
     "execution_count": 125,
     "metadata": {},
     "output_type": "execute_result"
    }
   ],
   "source": [
    "# affichons la prémière ligne de la table image_predictions_clean\n",
    "image_predictions_clean.head(1)"
   ]
  },
  {
   "cell_type": "markdown",
   "id": "40bea85c",
   "metadata": {},
   "source": [
    "#### `Donnees_supplémentaires`: Supprimer les retweet"
   ]
  },
  {
   "cell_type": "markdown",
   "id": "4f4484cd",
   "metadata": {},
   "source": [
    "##### Définir\n",
    "*Gardons les tweete Original*"
   ]
  },
  {
   "cell_type": "markdown",
   "id": "eaf29052",
   "metadata": {},
   "source": [
    "#### code"
   ]
  },
  {
   "cell_type": "code",
   "execution_count": 126,
   "id": "9dda452c",
   "metadata": {},
   "outputs": [],
   "source": [
    "donnees_supplémentaires_clean = donnees_supplémentaires_clean[donnees_supplémentaires_clean['retweeted_status'] == 'Original tweet']"
   ]
  },
  {
   "cell_type": "markdown",
   "id": "1c96e46e",
   "metadata": {},
   "source": [
    "#### test"
   ]
  },
  {
   "cell_type": "code",
   "execution_count": 127,
   "id": "fab798e8",
   "metadata": {},
   "outputs": [
    {
     "data": {
      "text/plain": [
       "array(['Original tweet'], dtype=object)"
      ]
     },
     "execution_count": 127,
     "metadata": {},
     "output_type": "execute_result"
    }
   ],
   "source": [
    "# affichons la liste de donnée dans la colonne retweeted_status\n",
    "donnees_supplémentaires_clean.retweeted_status.unique()"
   ]
  },
  {
   "cell_type": "markdown",
   "id": "7b7e9df3",
   "metadata": {},
   "source": [
    "## Toutes les tables doivent faire partie d'un ensemble de données"
   ]
  },
  {
   "cell_type": "code",
   "execution_count": 128,
   "id": "7ccccd9a",
   "metadata": {},
   "outputs": [],
   "source": [
    "# stockons la table twitter_archive_clean et la table image_predictions_clean dans une table appelée df_twitter\n",
    "df_twitter = pd.merge(twitter_archive_clean, \n",
    "                      image_predictions_clean, \n",
    "                      how = 'left', on = ['tweet_id'])"
   ]
  },
  {
   "cell_type": "code",
   "execution_count": 129,
   "id": "991794cb",
   "metadata": {},
   "outputs": [],
   "source": [
    "# stockons la table df_twitter et la table donnees_supplémentaires_clean dans une table appelée df_twitters\n",
    "df_twitters = pd.merge(df_twitter, donnees_supplémentaires_clean, \n",
    "                      how = 'left', on = ['tweet_id'])"
   ]
  },
  {
   "cell_type": "code",
   "execution_count": 130,
   "id": "75bd707f",
   "metadata": {},
   "outputs": [],
   "source": [
    "# gardons les tweete qui n'ont pas url null et pas type_dod erroné\n",
    "df_twitters = df_twitters[df_twitters.jpg_url.notnull()]\n",
    "df_twitters = df_twitters[df_twitters.type_dog != 'Error']"
   ]
  },
  {
   "cell_type": "code",
   "execution_count": 131,
   "id": "572b64b8",
   "metadata": {},
   "outputs": [
    {
     "name": "stdout",
     "output_type": "stream",
     "text": [
      "<class 'pandas.core.frame.DataFrame'>\n",
      "Int64Index: 1691 entries, 0 to 2355\n",
      "Data columns (total 14 columns):\n",
      " #   Column              Non-Null Count  Dtype         \n",
      "---  ------              --------------  -----         \n",
      " 0   tweet_id            1691 non-null   int64         \n",
      " 1   text                1691 non-null   object        \n",
      " 2   rating_numerator    1691 non-null   float64       \n",
      " 3   rating_denominator  1691 non-null   int64         \n",
      " 4   name                1691 non-null   object        \n",
      " 5   date_tweet          1691 non-null   datetime64[ns]\n",
      " 6   heure_tweet         1691 non-null   object        \n",
      " 7   dogs_stage          1691 non-null   object        \n",
      " 8   jpg_url             1691 non-null   object        \n",
      " 9   type_dog            1691 non-null   object        \n",
      " 10  confidence_list     1691 non-null   object        \n",
      " 11  retweet_count       1626 non-null   float64       \n",
      " 12  favorite_count      1626 non-null   float64       \n",
      " 13  retweeted_status    1626 non-null   object        \n",
      "dtypes: datetime64[ns](1), float64(3), int64(2), object(8)\n",
      "memory usage: 198.2+ KB\n"
     ]
    }
   ],
   "source": [
    "# affichons les informations de la table df_twitters\n",
    "df_twitters.info()"
   ]
  },
  {
   "cell_type": "code",
   "execution_count": 132,
   "id": "07b4d92a",
   "metadata": {},
   "outputs": [
    {
     "data": {
      "text/html": [
       "<div>\n",
       "<style scoped>\n",
       "    .dataframe tbody tr th:only-of-type {\n",
       "        vertical-align: middle;\n",
       "    }\n",
       "\n",
       "    .dataframe tbody tr th {\n",
       "        vertical-align: top;\n",
       "    }\n",
       "\n",
       "    .dataframe thead th {\n",
       "        text-align: right;\n",
       "    }\n",
       "</style>\n",
       "<table border=\"1\" class=\"dataframe\">\n",
       "  <thead>\n",
       "    <tr style=\"text-align: right;\">\n",
       "      <th></th>\n",
       "      <th>tweet_id</th>\n",
       "      <th>text</th>\n",
       "      <th>rating_numerator</th>\n",
       "      <th>rating_denominator</th>\n",
       "      <th>name</th>\n",
       "      <th>date_tweet</th>\n",
       "      <th>heure_tweet</th>\n",
       "      <th>dogs_stage</th>\n",
       "      <th>jpg_url</th>\n",
       "      <th>type_dog</th>\n",
       "      <th>confidence_list</th>\n",
       "      <th>retweet_count</th>\n",
       "      <th>favorite_count</th>\n",
       "      <th>retweeted_status</th>\n",
       "    </tr>\n",
       "  </thead>\n",
       "  <tbody>\n",
       "    <tr>\n",
       "      <th>0</th>\n",
       "      <td>667550904950915073</td>\n",
       "      <td>RT @dogratingrating: Exceptional talent. Origi...</td>\n",
       "      <td>12.0</td>\n",
       "      <td>10</td>\n",
       "      <td>None</td>\n",
       "      <td>2015-11-20</td>\n",
       "      <td>03:51:52</td>\n",
       "      <td>None</td>\n",
       "      <td>https://pbs.twimg.com/media/CUOb_gUUkAACXdS.jpg</td>\n",
       "      <td>vizsla</td>\n",
       "      <td>0.000081</td>\n",
       "      <td>NaN</td>\n",
       "      <td>NaN</td>\n",
       "      <td>NaN</td>\n",
       "    </tr>\n",
       "    <tr>\n",
       "      <th>3</th>\n",
       "      <td>667546741521195010</td>\n",
       "      <td>Here is George. George took a selfie of his ne...</td>\n",
       "      <td>9.0</td>\n",
       "      <td>10</td>\n",
       "      <td>George</td>\n",
       "      <td>2015-11-20</td>\n",
       "      <td>03:35:20</td>\n",
       "      <td>None</td>\n",
       "      <td>https://pbs.twimg.com/media/CUOaOWXWcAA0_Jy.jpg</td>\n",
       "      <td>toy_poodle</td>\n",
       "      <td>0.787424</td>\n",
       "      <td>138.0</td>\n",
       "      <td>355.0</td>\n",
       "      <td>Original tweet</td>\n",
       "    </tr>\n",
       "    <tr>\n",
       "      <th>4</th>\n",
       "      <td>667544320556335104</td>\n",
       "      <td>This is Kial. Kial is either wearing a cape, w...</td>\n",
       "      <td>10.0</td>\n",
       "      <td>10</td>\n",
       "      <td>Kial</td>\n",
       "      <td>2015-11-20</td>\n",
       "      <td>03:25:43</td>\n",
       "      <td>None</td>\n",
       "      <td>https://pbs.twimg.com/media/CUOYBbbWIAAXQGU.jpg</td>\n",
       "      <td>Pomeranian</td>\n",
       "      <td>0.412893</td>\n",
       "      <td>568.0</td>\n",
       "      <td>917.0</td>\n",
       "      <td>Original tweet</td>\n",
       "    </tr>\n",
       "    <tr>\n",
       "      <th>5</th>\n",
       "      <td>667538891197542400</td>\n",
       "      <td>This is a southwest Coriander named Klint. Hat...</td>\n",
       "      <td>9.0</td>\n",
       "      <td>10</td>\n",
       "      <td>a</td>\n",
       "      <td>2015-11-20</td>\n",
       "      <td>03:04:08</td>\n",
       "      <td>None</td>\n",
       "      <td>https://pbs.twimg.com/media/CUOTFZOW4AABsfW.jpg</td>\n",
       "      <td>Yorkshire_terrier</td>\n",
       "      <td>0.618957</td>\n",
       "      <td>72.0</td>\n",
       "      <td>220.0</td>\n",
       "      <td>Original tweet</td>\n",
       "    </tr>\n",
       "    <tr>\n",
       "      <th>7</th>\n",
       "      <td>667534815156183040</td>\n",
       "      <td>This is Frank (pronounced \"Fronq\"). Too many b...</td>\n",
       "      <td>8.0</td>\n",
       "      <td>10</td>\n",
       "      <td>Frank</td>\n",
       "      <td>2015-11-20</td>\n",
       "      <td>02:47:56</td>\n",
       "      <td>None</td>\n",
       "      <td>https://pbs.twimg.com/media/CUOPYI5UcAAj_nO.jpg</td>\n",
       "      <td>Pembroke</td>\n",
       "      <td>0.435254</td>\n",
       "      <td>576.0</td>\n",
       "      <td>866.0</td>\n",
       "      <td>Original tweet</td>\n",
       "    </tr>\n",
       "    <tr>\n",
       "      <th>...</th>\n",
       "      <td>...</td>\n",
       "      <td>...</td>\n",
       "      <td>...</td>\n",
       "      <td>...</td>\n",
       "      <td>...</td>\n",
       "      <td>...</td>\n",
       "      <td>...</td>\n",
       "      <td>...</td>\n",
       "      <td>...</td>\n",
       "      <td>...</td>\n",
       "      <td>...</td>\n",
       "      <td>...</td>\n",
       "      <td>...</td>\n",
       "      <td>...</td>\n",
       "    </tr>\n",
       "    <tr>\n",
       "      <th>2349</th>\n",
       "      <td>744995568523612160</td>\n",
       "      <td>This is Abby. She got her face stuck in a glas...</td>\n",
       "      <td>9.0</td>\n",
       "      <td>10</td>\n",
       "      <td>Abby</td>\n",
       "      <td>2016-06-20</td>\n",
       "      <td>20:49:19</td>\n",
       "      <td>puppo</td>\n",
       "      <td>https://pbs.twimg.com/media/ClbBg4WWEAMjwJu.jpg</td>\n",
       "      <td>Old_English_sheepdog</td>\n",
       "      <td>0.427481</td>\n",
       "      <td>716.0</td>\n",
       "      <td>3277.0</td>\n",
       "      <td>Original tweet</td>\n",
       "    </tr>\n",
       "    <tr>\n",
       "      <th>2351</th>\n",
       "      <td>825535076884762624</td>\n",
       "      <td>Here's a very loving and accepting puppo. Appe...</td>\n",
       "      <td>14.0</td>\n",
       "      <td>10</td>\n",
       "      <td>None</td>\n",
       "      <td>2017-01-29</td>\n",
       "      <td>02:44:34</td>\n",
       "      <td>puppo</td>\n",
       "      <td>https://pbs.twimg.com/media/C3TjvitXAAAI-QH.jpg</td>\n",
       "      <td>Rottweiler</td>\n",
       "      <td>0.681495</td>\n",
       "      <td>19669.0</td>\n",
       "      <td>56413.0</td>\n",
       "      <td>Original tweet</td>\n",
       "    </tr>\n",
       "    <tr>\n",
       "      <th>2353</th>\n",
       "      <td>825026590719483904</td>\n",
       "      <td>Say hello to Pablo. He's one gorgeous puppo. A...</td>\n",
       "      <td>12.0</td>\n",
       "      <td>10</td>\n",
       "      <td>Pablo</td>\n",
       "      <td>2017-01-27</td>\n",
       "      <td>17:04:02</td>\n",
       "      <td>puppo</td>\n",
       "      <td>https://pbs.twimg.com/media/C3MVTeHWcAAGNfx.jpg</td>\n",
       "      <td>Eskimo_dog</td>\n",
       "      <td>0.524454</td>\n",
       "      <td>1483.0</td>\n",
       "      <td>7020.0</td>\n",
       "      <td>Original tweet</td>\n",
       "    </tr>\n",
       "    <tr>\n",
       "      <th>2354</th>\n",
       "      <td>803773340896923648</td>\n",
       "      <td>This is Diogi. He fell in the pool as soon as ...</td>\n",
       "      <td>12.0</td>\n",
       "      <td>10</td>\n",
       "      <td>Diogi</td>\n",
       "      <td>2016-11-30</td>\n",
       "      <td>01:31:12</td>\n",
       "      <td>puppo</td>\n",
       "      <td>https://pbs.twimg.com/media/CyeTku-XcAALkBd.jpg</td>\n",
       "      <td>miniature_pinscher</td>\n",
       "      <td>0.817066</td>\n",
       "      <td>3220.0</td>\n",
       "      <td>11203.0</td>\n",
       "      <td>Original tweet</td>\n",
       "    </tr>\n",
       "    <tr>\n",
       "      <th>2355</th>\n",
       "      <td>859607811541651456</td>\n",
       "      <td>Sorry for the lack of posts today. I came home...</td>\n",
       "      <td>13.0</td>\n",
       "      <td>10</td>\n",
       "      <td>None</td>\n",
       "      <td>2017-05-03</td>\n",
       "      <td>03:17:27</td>\n",
       "      <td>puppo</td>\n",
       "      <td>https://pbs.twimg.com/media/C-3wvtxXcAUTuBE.jpg</td>\n",
       "      <td>golden_retriever</td>\n",
       "      <td>0.895529</td>\n",
       "      <td>1704.0</td>\n",
       "      <td>19476.0</td>\n",
       "      <td>Original tweet</td>\n",
       "    </tr>\n",
       "  </tbody>\n",
       "</table>\n",
       "<p>1691 rows × 14 columns</p>\n",
       "</div>"
      ],
      "text/plain": [
       "                tweet_id                                               text  \\\n",
       "0     667550904950915073  RT @dogratingrating: Exceptional talent. Origi...   \n",
       "3     667546741521195010  Here is George. George took a selfie of his ne...   \n",
       "4     667544320556335104  This is Kial. Kial is either wearing a cape, w...   \n",
       "5     667538891197542400  This is a southwest Coriander named Klint. Hat...   \n",
       "7     667534815156183040  This is Frank (pronounced \"Fronq\"). Too many b...   \n",
       "...                  ...                                                ...   \n",
       "2349  744995568523612160  This is Abby. She got her face stuck in a glas...   \n",
       "2351  825535076884762624  Here's a very loving and accepting puppo. Appe...   \n",
       "2353  825026590719483904  Say hello to Pablo. He's one gorgeous puppo. A...   \n",
       "2354  803773340896923648  This is Diogi. He fell in the pool as soon as ...   \n",
       "2355  859607811541651456  Sorry for the lack of posts today. I came home...   \n",
       "\n",
       "      rating_numerator  rating_denominator    name date_tweet heure_tweet  \\\n",
       "0                 12.0                  10    None 2015-11-20    03:51:52   \n",
       "3                  9.0                  10  George 2015-11-20    03:35:20   \n",
       "4                 10.0                  10    Kial 2015-11-20    03:25:43   \n",
       "5                  9.0                  10       a 2015-11-20    03:04:08   \n",
       "7                  8.0                  10   Frank 2015-11-20    02:47:56   \n",
       "...                ...                 ...     ...        ...         ...   \n",
       "2349               9.0                  10    Abby 2016-06-20    20:49:19   \n",
       "2351              14.0                  10    None 2017-01-29    02:44:34   \n",
       "2353              12.0                  10   Pablo 2017-01-27    17:04:02   \n",
       "2354              12.0                  10   Diogi 2016-11-30    01:31:12   \n",
       "2355              13.0                  10    None 2017-05-03    03:17:27   \n",
       "\n",
       "     dogs_stage                                          jpg_url  \\\n",
       "0          None  https://pbs.twimg.com/media/CUOb_gUUkAACXdS.jpg   \n",
       "3          None  https://pbs.twimg.com/media/CUOaOWXWcAA0_Jy.jpg   \n",
       "4          None  https://pbs.twimg.com/media/CUOYBbbWIAAXQGU.jpg   \n",
       "5          None  https://pbs.twimg.com/media/CUOTFZOW4AABsfW.jpg   \n",
       "7          None  https://pbs.twimg.com/media/CUOPYI5UcAAj_nO.jpg   \n",
       "...         ...                                              ...   \n",
       "2349      puppo  https://pbs.twimg.com/media/ClbBg4WWEAMjwJu.jpg   \n",
       "2351      puppo  https://pbs.twimg.com/media/C3TjvitXAAAI-QH.jpg   \n",
       "2353      puppo  https://pbs.twimg.com/media/C3MVTeHWcAAGNfx.jpg   \n",
       "2354      puppo  https://pbs.twimg.com/media/CyeTku-XcAALkBd.jpg   \n",
       "2355      puppo  https://pbs.twimg.com/media/C-3wvtxXcAUTuBE.jpg   \n",
       "\n",
       "                  type_dog confidence_list  retweet_count  favorite_count  \\\n",
       "0                   vizsla        0.000081            NaN             NaN   \n",
       "3               toy_poodle        0.787424          138.0           355.0   \n",
       "4               Pomeranian        0.412893          568.0           917.0   \n",
       "5        Yorkshire_terrier        0.618957           72.0           220.0   \n",
       "7                 Pembroke        0.435254          576.0           866.0   \n",
       "...                    ...             ...            ...             ...   \n",
       "2349  Old_English_sheepdog        0.427481          716.0          3277.0   \n",
       "2351            Rottweiler        0.681495        19669.0         56413.0   \n",
       "2353            Eskimo_dog        0.524454         1483.0          7020.0   \n",
       "2354    miniature_pinscher        0.817066         3220.0         11203.0   \n",
       "2355      golden_retriever        0.895529         1704.0         19476.0   \n",
       "\n",
       "     retweeted_status  \n",
       "0                 NaN  \n",
       "3      Original tweet  \n",
       "4      Original tweet  \n",
       "5      Original tweet  \n",
       "7      Original tweet  \n",
       "...               ...  \n",
       "2349   Original tweet  \n",
       "2351   Original tweet  \n",
       "2353   Original tweet  \n",
       "2354   Original tweet  \n",
       "2355   Original tweet  \n",
       "\n",
       "[1691 rows x 14 columns]"
      ]
     },
     "execution_count": 132,
     "metadata": {},
     "output_type": "execute_result"
    }
   ],
   "source": [
    "# affichons la table df_twitters\n",
    "df_twitters"
   ]
  },
  {
   "cell_type": "markdown",
   "id": "ac4300f9",
   "metadata": {},
   "source": [
    "<a id='stockage'></a>\n",
    "# Étape 4 : stockage des données"
   ]
  },
  {
   "cell_type": "code",
   "execution_count": 133,
   "id": "55e3fdc2",
   "metadata": {},
   "outputs": [],
   "source": [
    "#Stocker la base de donnée propre dans un fichier CSV appelée twitter_archive_database\n",
    "df_twitters.to_csv('twitter_archive_master.csv', \n",
    "                 index=False, encoding = 'utf-8')"
   ]
  },
  {
   "cell_type": "code",
   "execution_count": 134,
   "id": "3a502120",
   "metadata": {},
   "outputs": [],
   "source": [
    "# lecture da la base de donnée twitter_archive_database\n",
    "twitter_archive_database = pd.read_csv('twitter_archive_master.csv') "
   ]
  },
  {
   "cell_type": "code",
   "execution_count": 135,
   "id": "143cee38",
   "metadata": {},
   "outputs": [
    {
     "data": {
      "text/html": [
       "<div>\n",
       "<style scoped>\n",
       "    .dataframe tbody tr th:only-of-type {\n",
       "        vertical-align: middle;\n",
       "    }\n",
       "\n",
       "    .dataframe tbody tr th {\n",
       "        vertical-align: top;\n",
       "    }\n",
       "\n",
       "    .dataframe thead th {\n",
       "        text-align: right;\n",
       "    }\n",
       "</style>\n",
       "<table border=\"1\" class=\"dataframe\">\n",
       "  <thead>\n",
       "    <tr style=\"text-align: right;\">\n",
       "      <th></th>\n",
       "      <th>tweet_id</th>\n",
       "      <th>text</th>\n",
       "      <th>rating_numerator</th>\n",
       "      <th>rating_denominator</th>\n",
       "      <th>name</th>\n",
       "      <th>date_tweet</th>\n",
       "      <th>heure_tweet</th>\n",
       "      <th>dogs_stage</th>\n",
       "      <th>jpg_url</th>\n",
       "      <th>type_dog</th>\n",
       "      <th>confidence_list</th>\n",
       "      <th>retweet_count</th>\n",
       "      <th>favorite_count</th>\n",
       "      <th>retweeted_status</th>\n",
       "    </tr>\n",
       "  </thead>\n",
       "  <tbody>\n",
       "    <tr>\n",
       "      <th>0</th>\n",
       "      <td>667550904950915073</td>\n",
       "      <td>RT @dogratingrating: Exceptional talent. Origi...</td>\n",
       "      <td>12.0</td>\n",
       "      <td>10</td>\n",
       "      <td>None</td>\n",
       "      <td>2015-11-20</td>\n",
       "      <td>03:51:52</td>\n",
       "      <td>None</td>\n",
       "      <td>https://pbs.twimg.com/media/CUOb_gUUkAACXdS.jpg</td>\n",
       "      <td>vizsla</td>\n",
       "      <td>0.000081</td>\n",
       "      <td>NaN</td>\n",
       "      <td>NaN</td>\n",
       "      <td>NaN</td>\n",
       "    </tr>\n",
       "  </tbody>\n",
       "</table>\n",
       "</div>"
      ],
      "text/plain": [
       "             tweet_id                                               text  \\\n",
       "0  667550904950915073  RT @dogratingrating: Exceptional talent. Origi...   \n",
       "\n",
       "   rating_numerator  rating_denominator  name  date_tweet heure_tweet  \\\n",
       "0              12.0                  10  None  2015-11-20    03:51:52   \n",
       "\n",
       "  dogs_stage                                          jpg_url type_dog  \\\n",
       "0       None  https://pbs.twimg.com/media/CUOb_gUUkAACXdS.jpg   vizsla   \n",
       "\n",
       "   confidence_list  retweet_count  favorite_count retweeted_status  \n",
       "0         0.000081            NaN             NaN              NaN  "
      ]
     },
     "execution_count": 135,
     "metadata": {},
     "output_type": "execute_result"
    }
   ],
   "source": [
    "# affichons la prémière ligne de la table twitter_archive_database\n",
    "twitter_archive_database.head(1)"
   ]
  },
  {
   "cell_type": "markdown",
   "id": "783548aa",
   "metadata": {},
   "source": [
    "### stockons notre base de donnée twitter_archive_database dans un ficher sqlite"
   ]
  },
  {
   "cell_type": "code",
   "execution_count": 136,
   "id": "94cfc485",
   "metadata": {},
   "outputs": [
    {
     "name": "stdout",
     "output_type": "stream",
     "text": [
      "('RT @dogratingrating: Exceptional talent. Original humor. Cutting edge, Nova Scotian comedian. 12/10 https://t.co/uarnTjBeVA',)\n"
     ]
    }
   ],
   "source": [
    "#connection à la base de donnée\n",
    "conn = sqlite3.connect('twitter_archive_database.db')\n",
    "\n",
    "#Stocker la base de donnée twitter_archive_database.csv dans la base de donnée twitter_archive_database.db avec comme non\n",
    "#de table twitter_archive_data\n",
    "twitter_archive_database.to_sql('twitter_archive_data', conn, if_exists='replace', index=False) \n",
    "\n",
    "#test de la base de donée sqlite avec une réquete \n",
    "cur = conn.cursor() \n",
    "for row in cur.execute('SELECT text FROM twitter_archive_data WHERE tweet_id = 667550904950915073'): \n",
    "    print(row) \n",
    "conn.close()"
   ]
  },
  {
   "cell_type": "markdown",
   "id": "2cab4c9f",
   "metadata": {},
   "source": [
    "<a id='analyse'></a>\n",
    "## Étape 5 :analyser et visualiser les données"
   ]
  },
  {
   "cell_type": "markdown",
   "id": "20f75cc4",
   "metadata": {},
   "source": [
    "> Pour cet enssemble de donnée, je me suis poser quelques questions :\n",
    "\n",
    "- Question de recherche 1 : Quels est le top 10 des type chiens les plus poster ?\n",
    "- Question de recherche 2 : Quel mois ou il y a le plus grand nombre de tweete de toutes les années ?\n",
    "- Question de recherche 3 : le nombre de type de chiens posté peut-il affecter sa note ?"
   ]
  },
  {
   "cell_type": "code",
   "execution_count": 137,
   "id": "30f627df",
   "metadata": {},
   "outputs": [],
   "source": [
    "# lecture da la base de donnée twitter_archive_database\n",
    "twitter_archive_database = pd.read_csv('twitter_archive_master.csv') "
   ]
  },
  {
   "cell_type": "code",
   "execution_count": 138,
   "id": "3f8c1eba",
   "metadata": {},
   "outputs": [
    {
     "data": {
      "image/png": "[encoded data removed]",
      "text/plain": [
       "<Figure size 720x576 with 6 Axes>"
      ]
     },
     "metadata": {},
     "output_type": "display_data"
    }
   ],
   "source": [
    "# explore the data.\n",
    "twitter_archive_database.hist(figsize=(10,8));"
   ]
  },
  {
   "cell_type": "code",
   "execution_count": 139,
   "id": "c7095833",
   "metadata": {},
   "outputs": [
    {
     "name": "stdout",
     "output_type": "stream",
     "text": [
      "<class 'pandas.core.frame.DataFrame'>\n",
      "RangeIndex: 1691 entries, 0 to 1690\n",
      "Data columns (total 14 columns):\n",
      " #   Column              Non-Null Count  Dtype  \n",
      "---  ------              --------------  -----  \n",
      " 0   tweet_id            1691 non-null   int64  \n",
      " 1   text                1691 non-null   object \n",
      " 2   rating_numerator    1691 non-null   float64\n",
      " 3   rating_denominator  1691 non-null   int64  \n",
      " 4   name                1691 non-null   object \n",
      " 5   date_tweet          1691 non-null   object \n",
      " 6   heure_tweet         1691 non-null   object \n",
      " 7   dogs_stage          1691 non-null   object \n",
      " 8   jpg_url             1691 non-null   object \n",
      " 9   type_dog            1691 non-null   object \n",
      " 10  confidence_list     1691 non-null   float64\n",
      " 11  retweet_count       1626 non-null   float64\n",
      " 12  favorite_count      1626 non-null   float64\n",
      " 13  retweeted_status    1626 non-null   object \n",
      "dtypes: float64(4), int64(2), object(8)\n",
      "memory usage: 185.1+ KB\n"
     ]
    }
   ],
   "source": [
    "twitter_archive_database.info()"
   ]
  },
  {
   "cell_type": "markdown",
   "id": "daccd4ac",
   "metadata": {},
   "source": [
    "### Question de recherche 1 : Quels est le top 10 des type chiens les plus poster ?"
   ]
  },
  {
   "cell_type": "code",
   "execution_count": 140,
   "id": "d2dc840f",
   "metadata": {},
   "outputs": [
    {
     "data": {
      "text/plain": [
       "golden_retriever        158\n",
       "Labrador_retriever      108\n",
       "Pembroke                 95\n",
       "Chihuahua                91\n",
       "pug                      63\n",
       "                       ... \n",
       "Irish_wolfhound           1\n",
       "Scotch_terrier            1\n",
       "Bouvier_des_Flandres      1\n",
       "silky_terrier             1\n",
       "clumber                   1\n",
       "Name: type_dog, Length: 113, dtype: int64"
      ]
     },
     "execution_count": 140,
     "metadata": {},
     "output_type": "execute_result"
    }
   ],
   "source": [
    "# afficher le nombre de chaque type de chien\n",
    "twitter_archive_database['type_dog'].value_counts()"
   ]
  },
  {
   "cell_type": "code",
   "execution_count": 141,
   "id": "86385f48",
   "metadata": {},
   "outputs": [],
   "source": [
    "# stocker le nombre de chaque type de chien dans une variable\n",
    "df_type_dog = twitter_archive_database['type_dog'].value_counts()"
   ]
  },
  {
   "cell_type": "code",
   "execution_count": 142,
   "id": "64205270",
   "metadata": {},
   "outputs": [
    {
     "data": {
      "image/png": "[encoded data removed]",
      "text/plain": [
       "<Figure size 720x432 with 1 Axes>"
      ]
     },
     "metadata": {},
     "output_type": "display_data"
    }
   ],
   "source": [
    "# extraire les 10 meilleurs type de chien avec le nombre de poste.\n",
    "x = list(df_type_dog.index[:10])\n",
    "y = list(df_type_dog.values[:10])\n",
    "\n",
    "ax = sns.barplot(x=y,y=x)\n",
    "sns.set(rc={'figure.figsize':(12,5)})\n",
    "ax.set_title(\"Top 10 des type de chiens\",fontsize = 20)\n",
    "ax.set_xlabel(\"Nombre de poste\",fontsize = 13)\n",
    "ax.set_ylabel(\"Type de chiens\",fontsize = 13)\n",
    "\n",
    "sns.set_style(\"darkgrid\")\n",
    "# sauvegarder une image\n",
    "plt.savefig('top_10_type.png')"
   ]
  },
  {
   "cell_type": "markdown",
   "id": "08bda194",
   "metadata": {},
   "source": [
    "> Comme nous pouvons le voir ci-dessus, le graphique nous montre les types de chiens les plus affichés.\n",
    "> Dont la race golden retriever est la race la plus affichée suivie du labrador retriever et du pembroke."
   ]
  },
  {
   "cell_type": "markdown",
   "id": "79f68764",
   "metadata": {},
   "source": [
    "### Question de recherche 2 : Quel mois ou il y a le plus grand nombre de tweete de toutes les années ?"
   ]
  },
  {
   "cell_type": "code",
   "execution_count": 143,
   "id": "25341fd8",
   "metadata": {},
   "outputs": [
    {
     "data": {
      "text/plain": [
       "1     202\n",
       "2     155\n",
       "3     152\n",
       "4      84\n",
       "5      83\n",
       "6     109\n",
       "7     129\n",
       "8      47\n",
       "9      57\n",
       "10     56\n",
       "11    278\n",
       "12    339\n",
       "Name: date_tweet, dtype: int64"
      ]
     },
     "execution_count": 143,
     "metadata": {},
     "output_type": "execute_result"
    }
   ],
   "source": [
    "# convertisser date_tweet en datetime et garder les moi dans une variable\n",
    "twitter_archive_database['date_tweet'] = pd.to_datetime(twitter_archive_database['date_tweet'])\n",
    "number_of_release = twitter_archive_database.date_tweet.dt.month.value_counts().sort_index()\n",
    "number_of_release"
   ]
  },
  {
   "cell_type": "code",
   "execution_count": 144,
   "id": "3049e84e",
   "metadata": {},
   "outputs": [
    {
     "data": {
      "image/png": "[encoded data removed]",
      "text/plain": [
       "<Figure size 576x432 with 1 Axes>"
      ]
     },
     "metadata": {},
     "output_type": "display_data"
    }
   ],
   "source": [
    "# Creer une liste de mois\n",
    "# realiser le graph\n",
    "months=['Jan','Feb','Mar','Apr','May','Jun','Jul','Aug','Sep','Oct','Nov','Dec']\n",
    "number_of_release = pd.DataFrame(number_of_release)\n",
    "number_of_release['month'] = months\n",
    "\n",
    "number_of_release.plot(x='month',kind='bar',fontsize = 11,figsize=(8,6))\n",
    "#set the labels and titles of the plot.\n",
    "plt.title('Mois vs Nombre de poste',fontsize = 15)\n",
    "plt.xlabel('Mois',fontsize = 13)\n",
    "plt.ylabel('Nombre de poste',fontsize = 13)\n",
    "# sauvegarder une image\n",
    "plt.savefig('Mois_vs_Nombre_de_poste.png')"
   ]
  },
  {
   "cell_type": "markdown",
   "id": "af7eb94a",
   "metadata": {},
   "source": [
    "> Comme nous pouvons le voir ci-dessus, le mois ou il y a le plus de poste est le mois de Décembre"
   ]
  },
  {
   "cell_type": "markdown",
   "id": "a953a279",
   "metadata": {},
   "source": [
    "### Question de recherche 3 : le nombre de type de chiens posté peut-il affecter sa note ?"
   ]
  },
  {
   "cell_type": "code",
   "execution_count": 145,
   "id": "716faea3",
   "metadata": {},
   "outputs": [
    {
     "data": {
      "text/html": [
       "<div>\n",
       "<style scoped>\n",
       "    .dataframe tbody tr th:only-of-type {\n",
       "        vertical-align: middle;\n",
       "    }\n",
       "\n",
       "    .dataframe tbody tr th {\n",
       "        vertical-align: top;\n",
       "    }\n",
       "\n",
       "    .dataframe thead th {\n",
       "        text-align: right;\n",
       "    }\n",
       "</style>\n",
       "<table border=\"1\" class=\"dataframe\">\n",
       "  <thead>\n",
       "    <tr style=\"text-align: right;\">\n",
       "      <th></th>\n",
       "      <th>tweet_id</th>\n",
       "      <th>text</th>\n",
       "      <th>rating_numerator</th>\n",
       "      <th>rating_denominator</th>\n",
       "      <th>name</th>\n",
       "      <th>date_tweet</th>\n",
       "      <th>heure_tweet</th>\n",
       "      <th>dogs_stage</th>\n",
       "      <th>jpg_url</th>\n",
       "      <th>type_dog</th>\n",
       "      <th>confidence_list</th>\n",
       "      <th>retweet_count</th>\n",
       "      <th>favorite_count</th>\n",
       "      <th>retweeted_status</th>\n",
       "      <th>rating</th>\n",
       "    </tr>\n",
       "  </thead>\n",
       "  <tbody>\n",
       "    <tr>\n",
       "      <th>0</th>\n",
       "      <td>667550904950915073</td>\n",
       "      <td>RT @dogratingrating: Exceptional talent. Origi...</td>\n",
       "      <td>12.0</td>\n",
       "      <td>10</td>\n",
       "      <td>None</td>\n",
       "      <td>2015-11-20</td>\n",
       "      <td>03:51:52</td>\n",
       "      <td>None</td>\n",
       "      <td>https://pbs.twimg.com/media/CUOb_gUUkAACXdS.jpg</td>\n",
       "      <td>vizsla</td>\n",
       "      <td>0.000081</td>\n",
       "      <td>NaN</td>\n",
       "      <td>NaN</td>\n",
       "      <td>NaN</td>\n",
       "      <td>12.0</td>\n",
       "    </tr>\n",
       "  </tbody>\n",
       "</table>\n",
       "</div>"
      ],
      "text/plain": [
       "             tweet_id                                               text  \\\n",
       "0  667550904950915073  RT @dogratingrating: Exceptional talent. Origi...   \n",
       "\n",
       "   rating_numerator  rating_denominator  name date_tweet heure_tweet  \\\n",
       "0              12.0                  10  None 2015-11-20    03:51:52   \n",
       "\n",
       "  dogs_stage                                          jpg_url type_dog  \\\n",
       "0       None  https://pbs.twimg.com/media/CUOb_gUUkAACXdS.jpg   vizsla   \n",
       "\n",
       "   confidence_list  retweet_count  favorite_count retweeted_status  rating  \n",
       "0         0.000081            NaN             NaN              NaN    12.0  "
      ]
     },
     "execution_count": 145,
     "metadata": {},
     "output_type": "execute_result"
    }
   ],
   "source": [
    "# calculer la note des chiens\n",
    "twitter_archive_database['rating'] = 10 * twitter_archive_database['rating_numerator'] / twitter_archive_database['rating_denominator']\n",
    "twitter_archive_database.head(1)"
   ]
  },
  {
   "cell_type": "code",
   "execution_count": 146,
   "id": "6daf31ea",
   "metadata": {},
   "outputs": [
    {
     "data": {
      "text/html": [
       "<div>\n",
       "<style scoped>\n",
       "    .dataframe tbody tr th:only-of-type {\n",
       "        vertical-align: middle;\n",
       "    }\n",
       "\n",
       "    .dataframe tbody tr th {\n",
       "        vertical-align: top;\n",
       "    }\n",
       "\n",
       "    .dataframe thead th {\n",
       "        text-align: right;\n",
       "    }\n",
       "</style>\n",
       "<table border=\"1\" class=\"dataframe\">\n",
       "  <thead>\n",
       "    <tr style=\"text-align: right;\">\n",
       "      <th></th>\n",
       "      <th>type_dog_count</th>\n",
       "      <th>type_dog_mean</th>\n",
       "    </tr>\n",
       "    <tr>\n",
       "      <th>type_dog</th>\n",
       "      <th></th>\n",
       "      <th></th>\n",
       "    </tr>\n",
       "  </thead>\n",
       "  <tbody>\n",
       "    <tr>\n",
       "      <th>Bouvier_des_Flandres</th>\n",
       "      <td>1</td>\n",
       "      <td>13.00</td>\n",
       "    </tr>\n",
       "    <tr>\n",
       "      <th>EntleBucher</th>\n",
       "      <td>1</td>\n",
       "      <td>11.00</td>\n",
       "    </tr>\n",
       "    <tr>\n",
       "      <th>Irish_wolfhound</th>\n",
       "      <td>1</td>\n",
       "      <td>11.00</td>\n",
       "    </tr>\n",
       "    <tr>\n",
       "      <th>Japanese_spaniel</th>\n",
       "      <td>1</td>\n",
       "      <td>5.00</td>\n",
       "    </tr>\n",
       "    <tr>\n",
       "      <th>Scotch_terrier</th>\n",
       "      <td>1</td>\n",
       "      <td>9.00</td>\n",
       "    </tr>\n",
       "    <tr>\n",
       "      <th>clumber</th>\n",
       "      <td>1</td>\n",
       "      <td>11.27</td>\n",
       "    </tr>\n",
       "    <tr>\n",
       "      <th>silky_terrier</th>\n",
       "      <td>1</td>\n",
       "      <td>12.00</td>\n",
       "    </tr>\n",
       "    <tr>\n",
       "      <th>standard_schnauzer</th>\n",
       "      <td>1</td>\n",
       "      <td>12.00</td>\n",
       "    </tr>\n",
       "  </tbody>\n",
       "</table>\n",
       "</div>"
      ],
      "text/plain": [
       "                      type_dog_count  type_dog_mean\n",
       "type_dog                                           \n",
       "Bouvier_des_Flandres               1          13.00\n",
       "EntleBucher                        1          11.00\n",
       "Irish_wolfhound                    1          11.00\n",
       "Japanese_spaniel                   1           5.00\n",
       "Scotch_terrier                     1           9.00\n",
       "clumber                            1          11.27\n",
       "silky_terrier                      1          12.00\n",
       "standard_schnauzer                 1          12.00"
      ]
     },
     "execution_count": 146,
     "metadata": {},
     "output_type": "execute_result"
    }
   ],
   "source": [
    "#compter le nombre de chien par type de chien\n",
    "df_type_dog_count = twitter_archive_database.groupby('type_dog').count()\n",
    "#calculer la moyenne de chien par type de chien\n",
    "df_type_dog_mean = twitter_archive_database.groupby('type_dog').mean()\n",
    "type_dog_count = df_type_dog_count['rating']\n",
    "type_dog_mean = df_type_dog_mean['rating']\n",
    "# creer un dataframe df_rating\n",
    "df_rating = pd.DataFrame()\n",
    "df_rating['type_dog_count'] = type_dog_count\n",
    "df_rating['type_dog_mean'] = type_dog_mean\n",
    "df_rating[df_rating['type_dog_count']== 1]"
   ]
  },
  {
   "cell_type": "code",
   "execution_count": 147,
   "id": "e5a51cb3",
   "metadata": {},
   "outputs": [
    {
     "name": "stdout",
     "output_type": "stream",
     "text": [
      "corélation entre la note et le type de chien :  0.15699230412398343\n"
     ]
    },
    {
     "data": {
      "image/png": "[encoded data removed]",
      "text/plain": [
       "<Figure size 864x360 with 1 Axes>"
      ]
     },
     "metadata": {},
     "output_type": "display_data"
    }
   ],
   "source": [
    "# réaliser le graph\n",
    "ax = sns.regplot(x=df_rating['type_dog_count'],y=df_rating['type_dog_mean'],color='blue')\n",
    "\n",
    "ax.set_title(\"corélation entre la note et le nombre de type de chien\",fontsize=13)\n",
    "ax.set_xlabel(\"Nombre de type de chien\",fontsize=13)\n",
    "ax.set_ylabel(\"Notes\",fontsize=12)\n",
    "\n",
    "sns.set(rc={'figure.figsize':(10,6)})\n",
    "sns.set_style(\"whitegrid\")\n",
    "\n",
    "#trouver la corélation\n",
    "data_corr = df_rating.corr()\n",
    "\n",
    "print(\"corélation entre la note et le type de chien : \",data_corr.loc['type_dog_count','type_dog_mean'])\n",
    "# sauvegarder une image\n",
    "plt.savefig('corelation.png')"
   ]
  },
  {
   "cell_type": "markdown",
   "id": "507a70c1",
   "metadata": {},
   "source": [
    "> Comme nous pouvons le voir ci-dessus, le graph nous montre une corélation linéaire,se qui signifie que le nombre de type de chien posté n'a pas d'effet sur la note."
   ]
  },
  {
   "cell_type": "markdown",
   "id": "104f88b1",
   "metadata": {},
   "source": [
    "<a id='conclusions'></a>\n",
    "## Conclusions\n",
    "\n",
    "> En conclusion, après avoire effectué notre analyse dans cet ensemble de données de l’archive de tweets de l’utilisateur de Twitter @dog_rates, nous pouvons constater que \n",
    "> le type de chien le plus affichés par l’utilisateur est la race golden retriever.\n",
    "\n",
    "> ensuite , nous pouvons constater que le mois ou il publie le plus est le mois de Décembre.\n",
    "\n",
    "> Enfin,nous pouvons constater que le nombre de type de chien posté n'a pas d'effet sur les note.\n",
    "\n",
    "> Mais, Cet ensemble de données n'est pas vraiment une représentation efficace de l’archive de tweets de l’utilisateur de Twitter @dog_rates en raison du grand nombre de valeurs manquantes, ces valeurs erronées dans l'ensemble de données.\n"
   ]
  },
  {
   "cell_type": "markdown",
   "id": "8233d116",
   "metadata": {},
   "source": [
    "# <a id='reference'></a>\n",
    "## reference\n",
    "\n",
    "> Livre : python Data Analytics with pandas, numpy, and matplotlib second edition Fabio Nelli\n",
    "\n",
    "> site web : \n",
    "\n",
    "- https://pandas.pydata.org/docs/reference/ , \n",
    "- https://matplotlib.org/stable/tutorials/introductory/pyplot.html\n",
    "- https://video.udacity-data.com/topher/2018/November/5be5fb4c_twitter-api/twitter-api.py\n"
   ]
  },
  {
   "cell_type": "code",
   "execution_count": null,
   "id": "d6d061e5",
   "metadata": {},
   "outputs": [],
   "source": []
  }
 ],
 "metadata": {
  "kernelspec": {
   "display_name": "Python 3 (ipykernel)",
   "language": "python",
   "name": "python3"
  },
  "language_info": {
   "codemirror_mode": {
    "name": "ipython",
    "version": 3
   },
   "file_extension": ".py",
   "mimetype": "text/x-python",
   "name": "python",
   "nbconvert_exporter": "python",
   "pygments_lexer": "ipython3",
   "version": "3.9.12"
  }
 },
 "nbformat": 4,
 "nbformat_minor": 5
}
